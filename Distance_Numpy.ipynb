{
  "nbformat": 4,
  "nbformat_minor": 0,
  "metadata": {
    "colab": {
      "name": "Distance Numpy.ipynb",
      "provenance": [],
      "authorship_tag": "ABX9TyPcpusshvsz0WIV3Uq90zUj",
      "include_colab_link": true
    },
    "kernelspec": {
      "name": "python3",
      "display_name": "Python 3"
    },
    "language_info": {
      "name": "python"
    }
  },
  "cells": [
    {
      "cell_type": "markdown",
      "metadata": {
        "id": "view-in-github",
        "colab_type": "text"
      },
      "source": [
        "<a href=\"https://colab.research.google.com/github/Octa-p/DWDM21/blob/main/Distance_Numpy.ipynb\" target=\"_parent\"><img src=\"https://colab.research.google.com/assets/colab-badge.svg\" alt=\"Open In Colab\"/></a>"
      ]
    },
    {
      "cell_type": "code",
      "metadata": {
        "id": "8ocpthV0qVtZ"
      },
      "source": [
        "import numpy as np #peckage สำหรับทำงานกับข้อมูลที่เป็นตัวเลข ในรูปแบบ matrix"
      ],
      "execution_count": 1,
      "outputs": []
    },
    {
      "cell_type": "markdown",
      "metadata": {
        "id": "Ca6XXP-8qyOU"
      },
      "source": [
        "##**Numpy Array**"
      ]
    },
    {
      "cell_type": "markdown",
      "metadata": {
        "id": "Rq31F8Kiq2Fj"
      },
      "source": [
        "###สร้าง numpy array (matrix) จาก list"
      ]
    },
    {
      "cell_type": "code",
      "metadata": {
        "id": "MQKsHJL6q1cv"
      },
      "source": [
        "np_a = np.array([[1,2,3],[4,5,6]]) #สร้าง numpy array ที่มี 2 แถว 3 หลัก"
      ],
      "execution_count": 2,
      "outputs": []
    },
    {
      "cell_type": "code",
      "metadata": {
        "colab": {
          "base_uri": "https://localhost:8080/"
        },
        "id": "NzNiiX8SrOB0",
        "outputId": "9e98787a-30f6-4caf-8fa3-68a923d8c401"
      },
      "source": [
        "np_a"
      ],
      "execution_count": 3,
      "outputs": [
        {
          "output_type": "execute_result",
          "data": {
            "text/plain": [
              "array([[1, 2, 3],\n",
              "       [4, 5, 6]])"
            ]
          },
          "metadata": {},
          "execution_count": 3
        }
      ]
    },
    {
      "cell_type": "code",
      "metadata": {
        "colab": {
          "base_uri": "https://localhost:8080/"
        },
        "id": "Aw6MKadtrPN8",
        "outputId": "7db97c9d-ab5a-403d-a493-a3028f4638d8"
      },
      "source": [
        "np_a.shape"
      ],
      "execution_count": 4,
      "outputs": [
        {
          "output_type": "execute_result",
          "data": {
            "text/plain": [
              "(2, 3)"
            ]
          },
          "metadata": {},
          "execution_count": 4
        }
      ]
    },
    {
      "cell_type": "code",
      "metadata": {
        "colab": {
          "base_uri": "https://localhost:8080/"
        },
        "id": "VPoEsUPLrZBk",
        "outputId": "7d600b02-05e9-4128-bdbf-805ab1ab2bb3"
      },
      "source": [
        "np_b = np.array([[1,4],[2,5],[3,6]])\n",
        "np_b"
      ],
      "execution_count": 5,
      "outputs": [
        {
          "output_type": "execute_result",
          "data": {
            "text/plain": [
              "array([[1, 4],\n",
              "       [2, 5],\n",
              "       [3, 6]])"
            ]
          },
          "metadata": {},
          "execution_count": 5
        }
      ]
    },
    {
      "cell_type": "markdown",
      "metadata": {
        "id": "HIQETpg1r6bR"
      },
      "source": [
        "##Matrix transpose"
      ]
    },
    {
      "cell_type": "code",
      "metadata": {
        "colab": {
          "base_uri": "https://localhost:8080/"
        },
        "id": "Wgk1aC8arsLY",
        "outputId": "c53c50e1-d7b2-4426-bee7-4550ea8966ae"
      },
      "source": [
        "np_a.T"
      ],
      "execution_count": 6,
      "outputs": [
        {
          "output_type": "execute_result",
          "data": {
            "text/plain": [
              "array([[1, 4],\n",
              "       [2, 5],\n",
              "       [3, 6]])"
            ]
          },
          "metadata": {},
          "execution_count": 6
        }
      ]
    },
    {
      "cell_type": "markdown",
      "metadata": {
        "id": "ZFuqR0O6sXMT"
      },
      "source": [
        "### สร้าง matrix เริ่มต้น (zeros, ones)"
      ]
    },
    {
      "cell_type": "code",
      "metadata": {
        "colab": {
          "base_uri": "https://localhost:8080/"
        },
        "id": "u8z2oaXIr97s",
        "outputId": "26964881-c683-4ec4-a428-2d0027415096"
      },
      "source": [
        "np_z = np.zeros((4,5))\n",
        "np_z"
      ],
      "execution_count": 7,
      "outputs": [
        {
          "output_type": "execute_result",
          "data": {
            "text/plain": [
              "array([[0., 0., 0., 0., 0.],\n",
              "       [0., 0., 0., 0., 0.],\n",
              "       [0., 0., 0., 0., 0.],\n",
              "       [0., 0., 0., 0., 0.]])"
            ]
          },
          "metadata": {},
          "execution_count": 7
        }
      ]
    },
    {
      "cell_type": "code",
      "metadata": {
        "colab": {
          "base_uri": "https://localhost:8080/"
        },
        "id": "iZBVYLc4sy0x",
        "outputId": "ea9f9939-0635-4766-e962-61eb3af4c83b"
      },
      "source": [
        "np_o = np.ones((5,6))\n",
        "np_o"
      ],
      "execution_count": 8,
      "outputs": [
        {
          "output_type": "execute_result",
          "data": {
            "text/plain": [
              "array([[1., 1., 1., 1., 1., 1.],\n",
              "       [1., 1., 1., 1., 1., 1.],\n",
              "       [1., 1., 1., 1., 1., 1.],\n",
              "       [1., 1., 1., 1., 1., 1.],\n",
              "       [1., 1., 1., 1., 1., 1.]])"
            ]
          },
          "metadata": {},
          "execution_count": 8
        }
      ]
    },
    {
      "cell_type": "code",
      "metadata": {
        "colab": {
          "base_uri": "https://localhost:8080/"
        },
        "id": "Kzvl1k98s7o_",
        "outputId": "eff6ac3a-8564-4cb1-f3fe-c1d967b4f677"
      },
      "source": [
        "np_200 = 200 * np.ones((4,7))\n",
        "np_200"
      ],
      "execution_count": 9,
      "outputs": [
        {
          "output_type": "execute_result",
          "data": {
            "text/plain": [
              "array([[200., 200., 200., 200., 200., 200., 200.],\n",
              "       [200., 200., 200., 200., 200., 200., 200.],\n",
              "       [200., 200., 200., 200., 200., 200., 200.],\n",
              "       [200., 200., 200., 200., 200., 200., 200.]])"
            ]
          },
          "metadata": {},
          "execution_count": 9
        }
      ]
    },
    {
      "cell_type": "markdown",
      "metadata": {
        "id": "9HVQ5ARqtv2U"
      },
      "source": [
        "## สร้าง Matrix random"
      ]
    },
    {
      "cell_type": "code",
      "metadata": {
        "colab": {
          "base_uri": "https://localhost:8080/"
        },
        "id": "CO_zVSqktvEV",
        "outputId": "f6d1e40f-0d12-408f-fd39-01a79b707f2b"
      },
      "source": [
        "np.random.randn(5,5) #randn คือ random มาจาก normal distribution ที่มี mu=0 std=1"
      ],
      "execution_count": 10,
      "outputs": [
        {
          "output_type": "execute_result",
          "data": {
            "text/plain": [
              "array([[-0.80872857,  0.7434    , -0.11640868,  0.21911995,  1.5956793 ],\n",
              "       [ 1.49965314, -0.10664568, -2.80742828,  1.08452965,  0.4132754 ],\n",
              "       [ 1.56231307, -0.74642828,  0.41512796,  0.35377326,  0.2640835 ],\n",
              "       [ 0.77841701, -0.34913095,  0.12269971,  0.79417855,  0.03953463],\n",
              "       [-1.30891582, -0.85602376,  0.75677683,  0.22604539, -0.66629919]])"
            ]
          },
          "metadata": {},
          "execution_count": 10
        }
      ]
    },
    {
      "cell_type": "code",
      "metadata": {
        "colab": {
          "base_uri": "https://localhost:8080/"
        },
        "id": "2pE6mseMuCHl",
        "outputId": "4f38cba6-7cd0-48ae-d39a-0bf6435c02f5"
      },
      "source": [
        "2+(5*np.random.randn(3,3)) #random มาจาก normal distribution ที่มี mu=2 std=5"
      ],
      "execution_count": 11,
      "outputs": [
        {
          "output_type": "execute_result",
          "data": {
            "text/plain": [
              "array([[ 3.62286982,  2.01755253,  4.64101831],\n",
              "       [-1.81352419, -8.17042307, -3.33529089],\n",
              "       [ 0.31719189,  0.91291823, -4.06739746]])"
            ]
          },
          "metadata": {},
          "execution_count": 11
        }
      ]
    },
    {
      "cell_type": "code",
      "metadata": {
        "colab": {
          "base_uri": "https://localhost:8080/"
        },
        "id": "oqXMkH20ucBK",
        "outputId": "69d93ae5-3596-4852-c9fc-4b04b8c6dd60"
      },
      "source": [
        "np.random.randint(5,11,(4,5)) #random เลขจำนวนเต็มระหว่าง [5,11) ขนาด 4 แถว 5 หลัก"
      ],
      "execution_count": 12,
      "outputs": [
        {
          "output_type": "execute_result",
          "data": {
            "text/plain": [
              "array([[ 9,  6,  5,  9,  6],\n",
              "       [ 6,  5,  8,  8, 10],\n",
              "       [ 9,  5,  9,  5,  9],\n",
              "       [ 7,  6,  9,  6,  5]])"
            ]
          },
          "metadata": {},
          "execution_count": 12
        }
      ]
    },
    {
      "cell_type": "markdown",
      "metadata": {
        "id": "0qktuRR0PxyI"
      },
      "source": [
        "Matrix properties"
      ]
    },
    {
      "cell_type": "code",
      "metadata": {
        "id": "WAVqIy_Su0Kk",
        "outputId": "1f30ae53-badd-4ac6-ca2a-31ca1a7350f0",
        "colab": {
          "base_uri": "https://localhost:8080/"
        }
      },
      "source": [
        "np_a"
      ],
      "execution_count": 13,
      "outputs": [
        {
          "output_type": "execute_result",
          "data": {
            "text/plain": [
              "array([[1, 2, 3],\n",
              "       [4, 5, 6]])"
            ]
          },
          "metadata": {},
          "execution_count": 13
        }
      ]
    },
    {
      "cell_type": "code",
      "metadata": {
        "id": "68qxtG1ePtcH",
        "outputId": "d88eb65d-9b44-49f6-aaaa-6ba7394d5ec7",
        "colab": {
          "base_uri": "https://localhost:8080/"
        }
      },
      "source": [
        "np_a.T"
      ],
      "execution_count": 14,
      "outputs": [
        {
          "output_type": "execute_result",
          "data": {
            "text/plain": [
              "array([[1, 4],\n",
              "       [2, 5],\n",
              "       [3, 6]])"
            ]
          },
          "metadata": {},
          "execution_count": 14
        }
      ]
    },
    {
      "cell_type": "code",
      "metadata": {
        "id": "gaNAcFujPvS1",
        "outputId": "c076a6b4-0be1-4f5e-bb0f-5bde2b1f1ba0",
        "colab": {
          "base_uri": "https://localhost:8080/"
        }
      },
      "source": [
        "1+np_a"
      ],
      "execution_count": 15,
      "outputs": [
        {
          "output_type": "execute_result",
          "data": {
            "text/plain": [
              "array([[2, 3, 4],\n",
              "       [5, 6, 7]])"
            ]
          },
          "metadata": {},
          "execution_count": 15
        }
      ]
    },
    {
      "cell_type": "code",
      "metadata": {
        "id": "IMg0QS3ePw1e",
        "outputId": "718c0b47-a194-4d28-b063-fc90b2de8ca4",
        "colab": {
          "base_uri": "https://localhost:8080/"
        }
      },
      "source": [
        "2*np_a"
      ],
      "execution_count": 16,
      "outputs": [
        {
          "output_type": "execute_result",
          "data": {
            "text/plain": [
              "array([[ 2,  4,  6],\n",
              "       [ 8, 10, 12]])"
            ]
          },
          "metadata": {},
          "execution_count": 16
        }
      ]
    },
    {
      "cell_type": "code",
      "metadata": {
        "id": "le12SEKIP3Mo",
        "outputId": "556111df-b271-4c50-ff56-6c9b3843c8fa",
        "colab": {
          "base_uri": "https://localhost:8080/"
        }
      },
      "source": [
        "np_c = np.array([[6,5,4],[3,2,1]])\n",
        "np_c"
      ],
      "execution_count": 17,
      "outputs": [
        {
          "output_type": "execute_result",
          "data": {
            "text/plain": [
              "array([[6, 5, 4],\n",
              "       [3, 2, 1]])"
            ]
          },
          "metadata": {},
          "execution_count": 17
        }
      ]
    },
    {
      "cell_type": "code",
      "metadata": {
        "id": "ZE9N_jYTQAVw",
        "outputId": "23ce15d7-b703-4802-8c21-04c133a8835f",
        "colab": {
          "base_uri": "https://localhost:8080/"
        }
      },
      "source": [
        "np_a + np_c #adding matrix to matrix"
      ],
      "execution_count": 18,
      "outputs": [
        {
          "output_type": "execute_result",
          "data": {
            "text/plain": [
              "array([[7, 7, 7],\n",
              "       [7, 7, 7]])"
            ]
          },
          "metadata": {},
          "execution_count": 18
        }
      ]
    },
    {
      "cell_type": "code",
      "metadata": {
        "id": "yjFLwCIAQEEx",
        "outputId": "4e012714-5fb7-4430-a7f0-8507580ea62c",
        "colab": {
          "base_uri": "https://localhost:8080/"
        }
      },
      "source": [
        "np_a.shape"
      ],
      "execution_count": 19,
      "outputs": [
        {
          "output_type": "execute_result",
          "data": {
            "text/plain": [
              "(2, 3)"
            ]
          },
          "metadata": {},
          "execution_count": 19
        }
      ]
    },
    {
      "cell_type": "code",
      "metadata": {
        "id": "5nuIFAnyQL9M",
        "outputId": "67a7f7f1-d653-4887-9bea-8e47b6540377",
        "colab": {
          "base_uri": "https://localhost:8080/"
        }
      },
      "source": [
        "np_c.shape"
      ],
      "execution_count": 20,
      "outputs": [
        {
          "output_type": "execute_result",
          "data": {
            "text/plain": [
              "(2, 3)"
            ]
          },
          "metadata": {},
          "execution_count": 20
        }
      ]
    },
    {
      "cell_type": "markdown",
      "metadata": {
        "id": "AqLYQ_L0Qoix"
      },
      "source": [
        ""
      ]
    },
    {
      "cell_type": "code",
      "metadata": {
        "id": "gR-gqHPJQNta",
        "outputId": "aba9aa82-47b6-40ad-8558-732f38541884",
        "colab": {
          "base_uri": "https://localhost:8080/"
        }
      },
      "source": [
        "np.dot(np_a,np_c.T) #multipling matrix to matrix (a,b) x (b,c) = (a,c)"
      ],
      "execution_count": 23,
      "outputs": [
        {
          "output_type": "execute_result",
          "data": {
            "text/plain": [
              "array([[28, 10],\n",
              "       [73, 28]])"
            ]
          },
          "metadata": {},
          "execution_count": 23
        }
      ]
    },
    {
      "cell_type": "markdown",
      "metadata": {
        "id": "CnyWEK93RS1Z"
      },
      "source": [
        "##Indexing & Slicing"
      ]
    },
    {
      "cell_type": "code",
      "metadata": {
        "id": "EDX4zklZQivW",
        "outputId": "fb8f6b48-2de8-4d6f-8edb-6fb6bdaccd48",
        "colab": {
          "base_uri": "https://localhost:8080/"
        }
      },
      "source": [
        "np_a"
      ],
      "execution_count": 24,
      "outputs": [
        {
          "output_type": "execute_result",
          "data": {
            "text/plain": [
              "array([[1, 2, 3],\n",
              "       [4, 5, 6]])"
            ]
          },
          "metadata": {},
          "execution_count": 24
        }
      ]
    },
    {
      "cell_type": "code",
      "metadata": {
        "id": "TLik2wi7Sea6",
        "outputId": "b7e686e2-b976-4d57-ed05-558eb86ef343",
        "colab": {
          "base_uri": "https://localhost:8080/"
        }
      },
      "source": [
        "np_a[1,1]"
      ],
      "execution_count": 26,
      "outputs": [
        {
          "output_type": "execute_result",
          "data": {
            "text/plain": [
              "5"
            ]
          },
          "metadata": {},
          "execution_count": 26
        }
      ]
    },
    {
      "cell_type": "code",
      "metadata": {
        "id": "cjm7LUMJSgqf",
        "outputId": "f1fb1009-ce1c-4c84-c65b-54468ec4b5ce",
        "colab": {
          "base_uri": "https://localhost:8080/"
        }
      },
      "source": [
        "np_a[:2,:2]"
      ],
      "execution_count": 27,
      "outputs": [
        {
          "output_type": "execute_result",
          "data": {
            "text/plain": [
              "array([[1, 2],\n",
              "       [4, 5]])"
            ]
          },
          "metadata": {},
          "execution_count": 27
        }
      ]
    },
    {
      "cell_type": "code",
      "metadata": {
        "id": "eR_a1ysRSm_k",
        "outputId": "0a553e43-f4fe-4268-ce21-4a63eb0a97d5",
        "colab": {
          "base_uri": "https://localhost:8080/"
        }
      },
      "source": [
        "np_a[0,:]"
      ],
      "execution_count": 28,
      "outputs": [
        {
          "output_type": "execute_result",
          "data": {
            "text/plain": [
              "array([1, 2, 3])"
            ]
          },
          "metadata": {},
          "execution_count": 28
        }
      ]
    },
    {
      "cell_type": "markdown",
      "metadata": {
        "id": "qqAs2E7HStt9"
      },
      "source": [
        "##Useful functions"
      ]
    },
    {
      "cell_type": "code",
      "metadata": {
        "id": "-H7J_h-PS3d5",
        "outputId": "6c3b7aae-89b5-4296-ec1a-70c933a4b9bf",
        "colab": {
          "base_uri": "https://localhost:8080/"
        }
      },
      "source": [
        "np_a"
      ],
      "execution_count": 31,
      "outputs": [
        {
          "output_type": "execute_result",
          "data": {
            "text/plain": [
              "array([[1, 2, 3],\n",
              "       [4, 5, 6]])"
            ]
          },
          "metadata": {},
          "execution_count": 31
        }
      ]
    },
    {
      "cell_type": "code",
      "metadata": {
        "id": "3Ri4n0HgSpi8",
        "outputId": "ecde709f-5d48-49fe-c9f9-dff9e22c8a68",
        "colab": {
          "base_uri": "https://localhost:8080/"
        }
      },
      "source": [
        "np.sum(np_a)"
      ],
      "execution_count": 30,
      "outputs": [
        {
          "output_type": "execute_result",
          "data": {
            "text/plain": [
              "21"
            ]
          },
          "metadata": {},
          "execution_count": 30
        }
      ]
    },
    {
      "cell_type": "code",
      "metadata": {
        "id": "YEGzeBWwS0FS",
        "outputId": "b4c58730-2d73-4b25-ce2e-2b90b772da59",
        "colab": {
          "base_uri": "https://localhost:8080/"
        }
      },
      "source": [
        "np.sum(np_a,axis=0) #เอาด้านแถวมารวมกันเป็นแถวเดียว"
      ],
      "execution_count": 32,
      "outputs": [
        {
          "output_type": "execute_result",
          "data": {
            "text/plain": [
              "array([5, 7, 9])"
            ]
          },
          "metadata": {},
          "execution_count": 32
        }
      ]
    },
    {
      "cell_type": "code",
      "metadata": {
        "id": "20Y81Ei9TGGn",
        "outputId": "e346ef0b-cbdb-48ba-dad1-d5bb0ca23507",
        "colab": {
          "base_uri": "https://localhost:8080/"
        }
      },
      "source": [
        "np.sum(np_a,axis=1) #เอาค่าแนวตั้งมารวมกัน"
      ],
      "execution_count": 33,
      "outputs": [
        {
          "output_type": "execute_result",
          "data": {
            "text/plain": [
              "array([ 6, 15])"
            ]
          },
          "metadata": {},
          "execution_count": 33
        }
      ]
    },
    {
      "cell_type": "code",
      "metadata": {
        "id": "jBsSELaMTN5O",
        "outputId": "abb3ef92-2488-4bec-fe34-5e5da17af2bd",
        "colab": {
          "base_uri": "https://localhost:8080/"
        }
      },
      "source": [
        "np.mean(np_a)"
      ],
      "execution_count": 34,
      "outputs": [
        {
          "output_type": "execute_result",
          "data": {
            "text/plain": [
              "3.5"
            ]
          },
          "metadata": {},
          "execution_count": 34
        }
      ]
    },
    {
      "cell_type": "code",
      "metadata": {
        "id": "sSofAPgHTk-c",
        "outputId": "2aaa3f12-17a8-4f47-ba83-9f68b28add8c",
        "colab": {
          "base_uri": "https://localhost:8080/"
        }
      },
      "source": [
        "np.mean(np_a,axis=0) #หา mean ของ column #column คือ หลัก"
      ],
      "execution_count": 37,
      "outputs": [
        {
          "output_type": "execute_result",
          "data": {
            "text/plain": [
              "array([2.5, 3.5, 4.5])"
            ]
          },
          "metadata": {},
          "execution_count": 37
        }
      ]
    },
    {
      "cell_type": "markdown",
      "metadata": {
        "id": "RhS0G-jGUv9-"
      },
      "source": [
        "### วนลูปเอง"
      ]
    },
    {
      "cell_type": "code",
      "metadata": {
        "id": "hLFf215HUyWQ",
        "outputId": "f3814f8c-0bf1-4a0f-a6fa-30811f7366f2",
        "colab": {
          "base_uri": "https://localhost:8080/"
        }
      },
      "source": [
        "sum_all = 0\n",
        "\n",
        "for row in range(np_a.shape[0]):\n",
        "    for col in range(np_a.shape[1]):\n",
        "        sum_all = sum_all + np_a[row,col]\n",
        "        print(f'we are at row={row},col={col} np_a[{row},{col}]={np_a[row,col]} sum_all={sum_all}')\n",
        "print(sum_all)"
      ],
      "execution_count": 40,
      "outputs": [
        {
          "output_type": "stream",
          "text": [
            "we are at row=0,col=0 np_a[0,0]=1 sum_all=1\n",
            "we are at row=0,col=1 np_a[0,1]=2 sum_all=3\n",
            "we are at row=0,col=2 np_a[0,2]=3 sum_all=6\n",
            "we are at row=1,col=0 np_a[1,0]=4 sum_all=10\n",
            "we are at row=1,col=1 np_a[1,1]=5 sum_all=15\n",
            "we are at row=1,col=2 np_a[1,2]=6 sum_all=21\n",
            "21\n"
          ],
          "name": "stdout"
        }
      ]
    },
    {
      "cell_type": "markdown",
      "metadata": {
        "id": "SWifIjWcXAyw"
      },
      "source": [
        "np.sum(np_a,axis=0)\n",
        "\n"
      ]
    },
    {
      "cell_type": "code",
      "metadata": {
        "id": "qpIBN5kgWIhW",
        "outputId": "28c95566-b918-4196-d187-c4094d9ed2dc",
        "colab": {
          "base_uri": "https://localhost:8080/"
        }
      },
      "source": [
        "sum_all = np.zeros(np_a.shape[1])\n",
        "\n",
        "for row in range(np_a.shape[0]):\n",
        "    for col in range(np_a.shape[1]):\n",
        "        sum_all[col] = sum_all[col] + np_a[row,col]\n",
        "print(sum_all)"
      ],
      "execution_count": 41,
      "outputs": [
        {
          "output_type": "stream",
          "text": [
            "[5. 7. 9.]\n"
          ],
          "name": "stdout"
        }
      ]
    },
    {
      "cell_type": "markdown",
      "metadata": {
        "id": "vELwscd7Yy-S"
      },
      "source": [
        "Quiz กลุ่ม\n",
        "\n",
        "วนลูปหาค่า\n",
        "* ```np.sum(np_a,axis=1)```\n",
        "* ```np.mean(np_a)```\n",
        "* ```np.mean(np_a,axis=0)```\n",
        "* ```np.mean(np_a,axis=1)```\n",
        "* ```np.max(np_a)```\n",
        "* ```np.max(np_a,axis=0)```\n",
        "* ```np.max(np_a,axis=1)```\n",
        "* ```np.min(np_a)```\n",
        "* ```np.min(np_a,axis=0)```\n",
        "* ```np.min(np_a,axis=1)```"
      ]
    },
    {
      "cell_type": "markdown",
      "metadata": {
        "id": "ht-1P7HrZqjr"
      },
      "source": [
        "```np.sum(np_a,axis=1)```"
      ]
    },
    {
      "cell_type": "code",
      "metadata": {
        "id": "9hjXqoTZZW_Q",
        "outputId": "b9b16123-5bf0-44a0-8468-f0edfe27f6fb",
        "colab": {
          "base_uri": "https://localhost:8080/"
        }
      },
      "source": [
        "sum_all = np.zeros(np_a.shape[0])\n",
        "\n",
        "for row in range(np_a.shape[0]):\n",
        "    for col in range(np_a.shape[1]):\n",
        "        sum_all[row] = sum_all[row] + np_a[row,col]\n",
        "print(sum_all)"
      ],
      "execution_count": 47,
      "outputs": [
        {
          "output_type": "stream",
          "text": [
            "[ 6. 15.]\n"
          ],
          "name": "stdout"
        }
      ]
    },
    {
      "cell_type": "markdown",
      "metadata": {
        "id": "GulGweTVbkKe"
      },
      "source": [
        "* ```np.mean(np_a)```"
      ]
    },
    {
      "cell_type": "code",
      "metadata": {
        "id": "AmrZ97X2aZnp"
      },
      "source": [
        ""
      ],
      "execution_count": null,
      "outputs": []
    },
    {
      "cell_type": "markdown",
      "metadata": {
        "id": "VV-WYbZ7blAo"
      },
      "source": [
        "* ```np.mean(np_a,axis=0)```"
      ]
    },
    {
      "cell_type": "code",
      "metadata": {
        "id": "KNq42o3ubnvW"
      },
      "source": [
        ""
      ],
      "execution_count": null,
      "outputs": []
    },
    {
      "cell_type": "markdown",
      "metadata": {
        "id": "Q3EanMehbn-F"
      },
      "source": [
        "* ```np.mean(np_a,axis=1)```"
      ]
    },
    {
      "cell_type": "code",
      "metadata": {
        "id": "SdGlRJGBbtRv"
      },
      "source": [
        ""
      ],
      "execution_count": null,
      "outputs": []
    },
    {
      "cell_type": "markdown",
      "metadata": {
        "id": "HcyFfoD5btm3"
      },
      "source": [
        "* ```np.max(np_a)```"
      ]
    },
    {
      "cell_type": "code",
      "metadata": {
        "id": "tnXpksvFb6Q3"
      },
      "source": [
        ""
      ],
      "execution_count": null,
      "outputs": []
    },
    {
      "cell_type": "markdown",
      "metadata": {
        "id": "f2_Ojaxeb6zk"
      },
      "source": [
        "* ```np.max(np_a,axis=0)```"
      ]
    },
    {
      "cell_type": "markdown",
      "metadata": {
        "id": "yWdhnA5fb-EK"
      },
      "source": [
        ""
      ]
    },
    {
      "cell_type": "code",
      "metadata": {
        "id": "jKmJootUb9T7"
      },
      "source": [
        ""
      ],
      "execution_count": null,
      "outputs": []
    }
  ]
}