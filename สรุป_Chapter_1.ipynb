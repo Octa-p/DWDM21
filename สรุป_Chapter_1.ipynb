{
  "nbformat": 4,
  "nbformat_minor": 0,
  "metadata": {
    "colab": {
      "name": "สรุป Chapter 1.ipynb",
      "provenance": [],
      "authorship_tag": "ABX9TyPwqmqTrUsxC0xydX71zIXz",
      "include_colab_link": true
    },
    "kernelspec": {
      "name": "python3",
      "display_name": "Python 3"
    },
    "language_info": {
      "name": "python"
    }
  },
  "cells": [
    {
      "cell_type": "markdown",
      "metadata": {
        "id": "view-in-github",
        "colab_type": "text"
      },
      "source": [
        "<a href=\"https://colab.research.google.com/github/Octa-p/DWDM21/blob/main/%E0%B8%AA%E0%B8%A3%E0%B8%B8%E0%B8%9B_Chapter_1.ipynb\" target=\"_parent\"><img src=\"https://colab.research.google.com/assets/colab-badge.svg\" alt=\"Open In Colab\"/></a>"
      ]
    },
    {
      "cell_type": "markdown",
      "metadata": {
        "id": "-pbNMJwYjxKs"
      },
      "source": [
        "Data Mining (เหมืองข้อมูล ) คือกระบวนการที่กระทำกับข้อมูลจำนวนมากเพื่อค้นหารูปแบบและความสัมพันธ์ที่ซ่อนอยู่ในชุดข้อมูลนั้น ในปัจจุบันการทำเหมืองข้อมูลได้ถูกนำไปประยุกต์ใช้ในงานหลายประเภท ทั้งในด้านธุรกิจที่ช่วยในการตัดสินใจของผู้บริหาร ในด้านวิทยาศาสตร์และการแพทย์รวมทั้งในด้านเศรษฐกิจและสังคม\n",
        "การทำเหมืองข้อมูล (Data Mining) เปรียบเสมือนวิวัฒนาการหนึ่งในการจัดเก็บและตีความหมายข้อมูล จากเดิมที่มีการจัดเก็บข้อมูลอย่างง่ายๆ มาสู่การจัดเก็บในรูปแบบฐานข้อมูลที่สามารถดึงข้อมูลสารสนเทศมาใช้จนถึงการทำเหมืองข้อมูลที่สามารถค้นพบความรู้ที่ซ่อนอยู่ในข้อมูล หรือจะแยกๆ เป็นข้อๆ ได้ดังนี้\n",
        "-  กระบวนการหรือการเรียงลำดับของการค้นข้อมูลจำนวนมากและเก็บข้อมูลที่เกี่ยวข้อง\n",
        "-  การนำมาใช้โดยหน่วยงานทางธุรกิจและนักวิเคราะห์ทางการเงินหรือการนำมาใช้งานในด้านวิทยาศาสตร์เพื่อเอาข้อมูลขนาดใหญ่ที่สร้างโดยวิธีการทดลองและการสังเกตการณ์ที่ทันสมัย\n",
        "-  การสกัดหรือแยกข้อมูลที่เป็นประโยชน์จากข้อมูลขนาดใหญ่หรือฐานข้อมูล\n",
        "-  การวางแผนทรัพยากรขององค์กรโดยสามารถวิเคราะห์ทางสถิติและตรรกะของข้อมูลขนาดใหญ่เป็นการมองหารูปแบบที่สามารถช่วยการตัดสินใจได้"
      ]
    },
    {
      "cell_type": "markdown",
      "metadata": {
        "id": "8YHZoWEekY93"
      },
      "source": [
        "**ทำไมจึงต้องมี Data Mining..?**\n",
        "\n",
        " ข้อมูลที่ถูกเก็บไว้ในฐานข้อมูลหากเก็บไว้เฉยๆ ก็จะไม่เกิดประโยชน์ดังนั้นจึงต้องมีการสกัดสารสนเทศหรือการคัดเลือกข้อมูลออกมาใช้งานส่วนที่เราต้องการ\n",
        "ในอดีตเราได้ใช้คนเป็นผู้สืบค้นข้อมูลต่างๆ ในฐานข้อมูลซึ่งผู้สืบค้นจะทำการสร้างเงื่อนไขขึ้นมาตามภูมิปัญญาของผู้สืบค้น\n",
        "ในปัจจุบันการวิเคราะห์ข้อมูลจากฐานข้อมูลเดียวอาจไม่ให้ความรู้เพียงพอและลึกซึ้งสำหรับการดำเนินงานภายใต้ภาวะที่มีการแข่งขันสูงและมีการเปลี่ยนแปลงที่รวดเร็วจึงจำเป็นที่จะต้องรวบรวมฐานข้อมูลหลาย ๆ ฐานข้อมูลเข้าด้วยกัน เรียกว่า “ คลังข้อมูล” ( Data Warehouse)  ดังนั้นเราจึงจำเป็นต้องใช้ Data Mining ในการดึงข้อมูลจากฐานข้อมูลที่มีขนาดใหญ่ เพื่อที่จะนำข้อมูลนั่นมาใช้งานให้เกิดประโยชน์สูงที่สุด\n"
      ]
    },
    {
      "cell_type": "markdown",
      "metadata": {
        "id": "GvQUEST-kbCa"
      },
      "source": [
        "**วัตถุประสงค์ในการใช้ Data Mining**\n",
        "\n",
        "1.  เพื่อการค้นพบองค์ความรู้ใหม่ในฐานข้อมูล (Knowledge discovery in databases)\n",
        "2.  เพื่อการสกัดองค์ความรู้ที่ซ่อนเร้นอยู่ (Knowledge extraction)\n",
        "3.  เพื่อจัดการกับข้อมูลในอดีต (Data archeology)\n",
        "4.  เพื่อสำรวจข้อมูล (Data exploration)\n",
        "5. เพื่อค้นหา Pattern ของข้อมูลที่ซ่อนอยู่ (Data pattern processing)\n",
        "6.  เพื่อใช้ขุดเจาะข้อมูล (Data dredging)\n",
        "7. เพื่อเก็บเกี่ยวผลประโยชน์ให้ได้มาซึ่งสารสนเทศที่มีประโยชน์\n",
        "\n"
      ]
    },
    {
      "cell_type": "markdown",
      "metadata": {
        "id": "9U5YOaejkhv1"
      },
      "source": [
        "**เป้าหมายหลักของ Data Mining**\n",
        "\n",
        "คุณลักษณะและเป้าหมายหลักของ  Data Mining คือ  ใช้สกลับหรือค้นหา  Pattern ของข้อมูลที่ฝังลึกและซ่อนเร้นอยู่ภายในฐานข้อมูลขนาดใหญ่  โดยใช้สถาปัตยกรรม Client-Server  (Client/server architecture)  ใช้เครื่องมือสมัยใหม่ที่สามารถแสดงผลแบบกราฟฟิก  ผู้ใช้สามารถดูข้อมูลแบบเจาะลึก  (data drills) และสามารถใช้เครื่องมือในการสอบถามข้อมูลได้อย่างง่ายดาย   โดยไม่ต้องอาศัยความชำนาญของ programmer  บ่อยครั้งเราอาจค้นพบผลลัพธ์ที่เราไม่คาดหวังมาก่อน  เครื่องมือจะทำให้เราใช้งานได้ง่าย   ซึ่งเครื่องมือนอกจากจะแสดงผลกราฟิกได้แล้วยังรวม Spreadsheets  เอาไว้ด้วย"
      ]
    },
    {
      "cell_type": "markdown",
      "metadata": {
        "id": "r9qPIHmskmJp"
      },
      "source": [
        "**ขั้นตอนการทำ Data Mining**\n",
        "\n",
        "    - Data Cleaning เป็นขั้นตอนสำหรับการคัดข้อมูลที่ไม่เกี่ยวข้องออกไป\n",
        "    - Data Integration เป็นขั้นตอนการรวมข้อมูลที่มีหลายแหล่งให้เป็นข้อมูลชุดเดียวกัน\n",
        "\n",
        "    - Data Selection เป็นขั้นตอนการดึงข้อมูลสำหรับการวิเคราะห์จากแหล่งที่บันทึกไว้\n",
        "\n",
        "    - Data Transformation เป็นขั้นตอนการแปลงข้อมูลให้เหมาะสมสำหรับการใช้งาน\n",
        "    - Data Mining เป็นขั้นตอนการค้นหารูปแบบที่เป็นประโยชน์จากข้อมูลที่มีอยู่\n",
        "    - Pattern Evaluation เป็นขั้นตอนการประเมินรูปแบบที่ได้จากการทำเหมืองข้อมูล\n",
        "    - Knowledge Representation เป็นขั้นตอนการนำเสนอความรู้ที่ค้นพบ โดยใช้เทคนิคในการนำเสนอเพื่อให้เข้าใจ"
      ]
    },
    {
      "cell_type": "markdown",
      "metadata": {
        "id": "XDVo6UYIkqlt"
      },
      "source": [
        "![image.png](data:image/png;base64,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)"
      ]
    },
    {
      "cell_type": "markdown",
      "metadata": {
        "id": "XpuTnR_IkzDw"
      },
      "source": [
        "**ส่วนประกอบการทำ Data Mining**\n",
        "\n",
        "     - Database, Data Warehouse, World Wide Web และ Other Info Repositories เป็นแหล่งข้อมูลสำหรับการทำเหมืองข้อมูล\n",
        "     - Database หรือ Data Warehouse Server ทำหน้าที่นำเข้าข้อมูลตามคำขอของผู้ใช้\n",
        "     - Knowledge Base ได้แก่ ความรู้เฉพาะด้านในงานที่ทำจะเป็นประโยชน์ต่อการสืบค้น หรือประเมินความน่าสนใจของรูปแบบผลลัพธ์ที่ได้\n",
        "     - Data Mining Engine เป็นส่วนประกอบหลักประกอบด้วยโมดูลที่รับผิดชอบงานทำเหมืองข้อมูลประเภทต่างๆ ได้แก่ การหากฎความสัมพันธ์ การจำแนกประเภท การจัดกลุ่ม\n",
        "     - Pattern Evaluation Module ทำงานร่วมกับ Data Mining Engine โดยใช้มาตรวัดความน่าสนใจในการกลั่นกรองรูปแบบผลลัทธ์ที่ได้ เพื่อให้การค้นหามุ่งเน้นเฉพาะรูปแบบที่น่าสนใจ\n",
        "     - User Interface ส่วนติดต่อประสานระหว่างผู้ใช้กับระบบการทำเหมืองข้อมูล ช่วยให้ผู้ใช้สามารถระบุงานทำเหมืองข้อมูลที่ต้องการทำ ดูข้อมูลหรือโครงสร้างการจัดเก็บข้อมูล ประเมินผลลัพธ์ที่ได้"
      ]
    },
    {
      "cell_type": "markdown",
      "metadata": {
        "id": "PDOVdwtLjoQo"
      },
      "source": [
        "ลักษณะเฉพาะของข้อมูลที่มีการใช้ทำ Data Mining\n",
        "\n",
        "     -ข้อมูลขนาดใหญ่เกินกว่าจะพิจารณาความสัมพันธ์ที่ซ่อนอยู่ภายในข้อมูลได้ด้วยตาเปล่า หรือโดยการใช้ Database Management System ( DBMS ) ในการจัดการฐานข้อมูล\n",
        "     -ข้อมูลที่มาจากหลายแหล่ง โดยอาจรวบรวมมาจากหลายระบบปฏิบัติการหรือหลาย DBMS เช่น Oracle , DB2 , MS SQL , MS Access เป็นต้น\n",
        "     -ข้อมูลที่ไม่มีการเปลี่ยนแปลงตลอดช่วงเวลาที่ทำการ Mining หากข้อมูลที่มีอยู่นั้นเป็นข้อมูลที่เปลี่ยนแปลงตลอดเวลาจะต้องแก้ปัญหานี้ก่อน โดยบันทึกฐานข้อมูลนั้นไว้และนำฐานข้อมูลที่บันทึกไว้มาทำ Mining แต่เนื่องจากข้อมูลนั้นมีการเปลี่ยนแปลงอยู่ตลอดเวลา จึงทำให้ผลลัพธ์ที่ได้จาการทำ Mining สมเหตุสมผลในช่วงเวลาหนึ่งเท่านั้น ดังนั้นเพื่อให้ได้ผลลัพธ์ที่มีความถูกต้องเหมาะสมอยู่ตลอดเวลาจึงต้องทำ Mining ใหม่ทุกครั้งในช่วงเวลาที่เหมาะสม\n",
        "     -ข้อมูลที่มีโครงสร้างซับซ้อน เช่น ข้อมูลรูปภาพ ข้อมูลมัลติมีเดีย ข้อมูลเหล่านี้สามารถนำมาทำ Mining ได้เช่นกันแต่ต้องใช้เทคนิคการทำ Data Mining ขั้นสูง "
      ]
    },
    {
      "cell_type": "markdown",
      "metadata": {
        "id": "rKs4E-IOlEMR"
      },
      "source": [
        "**เทคนิคในการทำ Data Mining**\n",
        "\n",
        "    กฎความสัมพันธ์ (Association rule)\n",
        "แสดงความสัมพันธ์ของเหตุการณ์หรือวัตถุ ที่เกิดขึ้นพร้อมกัน ตัวอย่างของการประยุกต์ใช้กฎเชื่อมโยง เช่น การวิเคราะห์ข้อมูลการขายสินค้า โดยเก็บข้อมูลจากระบบ ณ จุดขาย (POS) หรือร้านค้าออนไลน์ แล้วพิจารณาสินค้าที่ผู้ซื้อมักจะซื้อพร้อมกัน เช่น ถ้าพบว่าคนที่ซื้อเทปวิดีโอมักจะซื้อเทปกาวด้วย ร้านค้าก็อาจจะจัดร้านให้สินค้าสองอย่างอยู่ใกล้กัน เพื่อเพิ่มยอดขาย หรืออาจจะพบว่าหลังจากคนซื้อหนังสือ ก แล้ว มักจะซื้อหนังสือ ข ด้วย ก็สามารถนำความรู้นี้ไปแนะนำผู้ที่กำลังจะซื้อหนังสือ ก ได้\n",
        "         \n",
        "     การจำแนกประเภทข้อมูล (Data classification) หาความสัมพันธ์ระหว่างผลการตรวจร่างกายต่าง ๆ กับการเกิดโรค โดยใช้ข้อมูลผู้ป่วยและการวินิจฉัยของแพทย์ที่เก็บไว้ เพื่อนำมาช่วยวินิจฉัยโรคของผู้ป่วย หรือการวิจัยทางการแพทย์ ในทางธุรกิจจะใช้เพื่อดูคุณสมบัติของผู้ที่จะก่อหนี้ดีหรือหนี้เสีย เพื่อประกอบการพิจารณาการอนุมัติเงินกู้\n",
        "         \n",
        "     การแบ่งกลุ่มข้อมูล (Data clustering) \n",
        "แบ่งข้อมูลที่มีลักษณะคล้ายกันออกเป็นกลุ่ม แบ่งกลุ่มผู้ป่วยที่เป็นโรคเดียวกันตามลักษณะอาการ เพื่อนำไปใช้ประโยชน์ในการวิเคราะห์หาสาเหตุของโรค โดยพิจารณาจากผู้ป่วยที่มีอาการคล้ายคลึงกัน\n",
        "          \n",
        "     การสร้างมโนภาพ (Visualization)\n",
        "สร้างภาพคอมพิวเตอร์กราฟิกที่สามารถนำเสนอข้อมูลมากมายอย่างครบถ้วนแทนการใช้ขัอความนำเสนอข้อมูลที่มากมาย เราอาจพบข้อมูลที่ซ้อนเร้นเมื่อดูข้อมูลชุดนั้นด้วยจินตทัศน์\n",
        "\n",
        "\n",
        "คุณลักษณะของ Data Mining\n",
        "             -  การค้นหาข้อมูลโดยอาศัยเทคโนโลยีการทำเหมืองข้อมูล ภายใต้ฐานข้อมูลขนาดใหหรือคลังข้อมูล ซึ่งข้อมูลอาจถูกสะสมมานานหลายปี\n",
        "             - ผู้ใช้งานระบบสารสนเทศไม่จำเป็นต้องมีทักษะในการเขียนโปรแกรม เนื่องจากมีเครื่องมือช่วยค้นหาข้อมูลจากคลังข้อมูลได้อย่างรวดเร็ว\n",
        "             - ผู้ใช้ต้องกำหนดขอบเขตการค้นหาข้อมูลให้ชัดเจนเพื่อความรวดเร็ว\n",
        "             - อาจมีการประมวลผลข้อมูลแบบขนาน เพื่อเพิ่มประสิทธิภาพในการค้นหาและวิเคราะห์ข้อมูล\n",
        "             - เครื่องมือสำหรับทำเหมืองข้อมูลสามารถใช้งานร่วมกับโปรแกรม Spreadsheet และเครื่องมือพัฒนาต่าง ๆ ได้เป็นอย่างดี\n",
        "\n",
        "\n",
        "ประโยชน์ของ Data Mining\n",
        "             - ช่วยชี้แนวทางการตัดสินใจและคาดการณ์ผลลัพธ์ที่จะได้จากการตัดสินใจ\n",
        "             - เพิ่มความเร็วในการวิเคราะห์ฐานข้อมูลขนาดใหญ่\n",
        "             - ค้นหาส่วนประกอบที่ซ่อนอยู่ภายในเอกสาร รวมถึงความสัมพันธ์ของส่วนประกอบต่าง ๆ ด้วย\n",
        "             - เชื่อมโยงหน่วยงานต่าง ๆ ภายในองค์กร\n",
        "             - การจัดกลุ่มข้อมูล เช่น จัดกลุ่มลูกค้าทั้งหมดของบริษัทประกันภัยที่ประสบอุบัติเหตุ ลักษณะเดียวกันเพื่อดำเนินการต่าง ๆ ตามนโยบายของบริษัท\n",
        "\n",
        "           ตัวอย่างการนำเหมืองข้อมูลไปใช้งาน\n",
        "                 การตลาด \n",
        "                    - การทำนายผลการตอบสนองกับการเปิดตัวสินค้าใหม่\n",
        "                    - การทำนายยอดขายเมื่อมีการลดราคาสินค้า\n",
        "                    -  การทำนายกลุ่มลูกค้าที่น่าจะใช้สินค้าของเรา\n",
        "                \n",
        "                  การเงินการธนาคาร\n",
        "                     -  การคาดการณ์ถึงโอกาสในการชำระหนี้ของลูกค้าว่าสูงเท่าไหร่?\n",
        "-  ค้นหาลูกค้าขาดคุณภาพ เพื่อหลีกเลี่ยงความเสี่ยงในการปล่อยกู้\n",
        "-  ค้นหาลูกค้าชั้นดี เพื่อเสนอการปล่อยกู้\n",
        "-   ทำนายแนวโน้มของพฤติกรรมการใช้บัตรเครดิต\n",
        "\n",
        "สถานีโทรทัศน์หรือวิทยุ\n",
        "-  ค้นหารายการที่ดีและเหมาะสมต่อช่วงเวลาที่สุด เพื่อวางผังรายการในแต่ละเดือน\n",
        "\n",
        "ฮาร์ดแวร์และซอฟต์แวร์คอมพิวเตอร์\n",
        "-  ค้นหาช่วงเวลาที่เหมาะสมกับการผลิตชิพคอมพิวเตอร์ตัวใหม่ เพื่อป้อนสู่ตลาด\n",
        "-  การทำนายอายุการใช้งานของ Disk Drive หรือ อุปกรณ์ต่าง ๆ"
      ]
    },
    {
      "cell_type": "markdown",
      "metadata": {
        "id": "m2Rx7NOAlRKD"
      },
      "source": [
        ""
      ]
    }
  ]
}