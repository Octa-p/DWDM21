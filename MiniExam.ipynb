{
  "nbformat": 4,
  "nbformat_minor": 0,
  "metadata": {
    "colab": {
      "name": "MiniExam.ipynb",
      "provenance": [],
      "include_colab_link": true
    },
    "kernelspec": {
      "name": "python3",
      "display_name": "Python 3"
    },
    "language_info": {
      "name": "python"
    }
  },
  "cells": [
    {
      "cell_type": "markdown",
      "metadata": {
        "id": "view-in-github",
        "colab_type": "text"
      },
      "source": [
        "<a href=\"https://colab.research.google.com/github/Octa-p/DWDM21/blob/main/MiniExam.ipynb\" target=\"_parent\"><img src=\"https://colab.research.google.com/assets/colab-badge.svg\" alt=\"Open In Colab\"/></a>"
      ]
    },
    {
      "cell_type": "markdown",
      "metadata": {
        "id": "iPx-P2JWSAwz"
      },
      "source": [
        "### ข้อสอบ\n",
        "\n",
        "จาก data ```flights.csv``` และ ```airports.csv``` ใน https://drive.google.com/drive/folders/1EFo1_uQgWkRiXjezL0T4YwteYrsqU5MV?usp=sharing\n",
        "0. หารัฐที่มีจำนวนเครื่องบินขาเข้ามากที่สุดและน้อยที่สุด\n",
        "1. หารัฐที่มีจำนวนเครื่องบินขาออกมากที่สุดและน้อยที่สุด\n",
        "2. วาด Histogram แสดงจำนวนเครื่องบินขาออกของแต่ละวันในสัปดาห์\n",
        "3. สายการบินไหนมีเที่ยวบินมากที่สุดและน้อยที่สุด\n",
        "4. สายการบินอะไรมีความล่าช้ามากที่สุดและน้อยที่สุด\n",
        "5. วันธรรมดา หรือวันเสาร์อาทิตย์มีเครื่องบินขาเข้ามากกว่ากัน (วันจันทร์ = 1, วันอังคาร = 2, วันพุธ = 3,...)\n",
        "\n",
        "ให้นักศึกษาทำข้อสอบ 2 ข้อจากที่แสดงข้างบนโดยกรอกรหัสนักศึกษาลงใน function ```gen_exams()``` แล้ว run เพื่อให้ได้ข้อสอบที่นักศึกษาต้องทำ 2 ข้อ (ข้อละ 3 คะแนน)\n",
        "และให้นักศึกษาคิดโจทย์เองอีก 1 ข้อ (4 คะแนน)\n"
      ]
    },
    {
      "cell_type": "code",
      "metadata": {
        "id": "ZfBK6J_JOObY"
      },
      "source": [
        "import pandas as pd"
      ],
      "execution_count": 4,
      "outputs": []
    },
    {
      "cell_type": "code",
      "metadata": {
        "colab": {
          "base_uri": "https://localhost:8080/"
        },
        "id": "FtfT3pF0PL2x",
        "outputId": "2f7c1c86-6056-4289-dab6-20346cda8e2e"
      },
      "source": [
        "from google.colab import drive \n",
        "drive.mount('/content/drive')"
      ],
      "execution_count": 5,
      "outputs": [
        {
          "output_type": "stream",
          "name": "stdout",
          "text": [
            "Mounted at /content/drive\n"
          ]
        }
      ]
    },
    {
      "cell_type": "code",
      "metadata": {
        "id": "XhB2n7PAPPfr"
      },
      "source": [
        "import os"
      ],
      "execution_count": 6,
      "outputs": []
    },
    {
      "cell_type": "code",
      "metadata": {
        "id": "T9h6j4W-OU5X"
      },
      "source": [
        "path = '/content/drive/My Drive/DWDM2021_DATA'"
      ],
      "execution_count": 13,
      "outputs": []
    },
    {
      "cell_type": "code",
      "metadata": {
        "colab": {
          "base_uri": "https://localhost:8080/",
          "height": 436
        },
        "id": "rDBac0rqPpVY",
        "outputId": "e500b7d9-589d-401c-8868-3f7cfd37025f"
      },
      "source": [
        "flights = pd.read_csv(os.path.join(path,'flights.csv'))\n",
        "flights"
      ],
      "execution_count": 42,
      "outputs": [
        {
          "output_type": "execute_result",
          "data": {
            "text/html": [
              "<div>\n",
              "<style scoped>\n",
              "    .dataframe tbody tr th:only-of-type {\n",
              "        vertical-align: middle;\n",
              "    }\n",
              "\n",
              "    .dataframe tbody tr th {\n",
              "        vertical-align: top;\n",
              "    }\n",
              "\n",
              "    .dataframe thead th {\n",
              "        text-align: right;\n",
              "    }\n",
              "</style>\n",
              "<table border=\"1\" class=\"dataframe\">\n",
              "  <thead>\n",
              "    <tr style=\"text-align: right;\">\n",
              "      <th></th>\n",
              "      <th>วันในเดือน</th>\n",
              "      <th>วันในสัปดาห์</th>\n",
              "      <th>สายการบิน</th>\n",
              "      <th>รหัสสนามบินต้นทาง</th>\n",
              "      <th>รหัสสนามบินปลายทาง</th>\n",
              "      <th>ความล่าช้าขาออก</th>\n",
              "      <th>ความล่าช้าขาเข้า</th>\n",
              "    </tr>\n",
              "  </thead>\n",
              "  <tbody>\n",
              "    <tr>\n",
              "      <th>0</th>\n",
              "      <td>19</td>\n",
              "      <td>5</td>\n",
              "      <td>DL</td>\n",
              "      <td>11433</td>\n",
              "      <td>13303</td>\n",
              "      <td>-3</td>\n",
              "      <td>1</td>\n",
              "    </tr>\n",
              "    <tr>\n",
              "      <th>1</th>\n",
              "      <td>19</td>\n",
              "      <td>5</td>\n",
              "      <td>DL</td>\n",
              "      <td>14869</td>\n",
              "      <td>12478</td>\n",
              "      <td>0</td>\n",
              "      <td>-8</td>\n",
              "    </tr>\n",
              "    <tr>\n",
              "      <th>2</th>\n",
              "      <td>19</td>\n",
              "      <td>5</td>\n",
              "      <td>DL</td>\n",
              "      <td>14057</td>\n",
              "      <td>14869</td>\n",
              "      <td>-4</td>\n",
              "      <td>-15</td>\n",
              "    </tr>\n",
              "    <tr>\n",
              "      <th>3</th>\n",
              "      <td>19</td>\n",
              "      <td>5</td>\n",
              "      <td>DL</td>\n",
              "      <td>15016</td>\n",
              "      <td>11433</td>\n",
              "      <td>28</td>\n",
              "      <td>24</td>\n",
              "    </tr>\n",
              "    <tr>\n",
              "      <th>4</th>\n",
              "      <td>19</td>\n",
              "      <td>5</td>\n",
              "      <td>DL</td>\n",
              "      <td>11193</td>\n",
              "      <td>12892</td>\n",
              "      <td>-6</td>\n",
              "      <td>-11</td>\n",
              "    </tr>\n",
              "    <tr>\n",
              "      <th>...</th>\n",
              "      <td>...</td>\n",
              "      <td>...</td>\n",
              "      <td>...</td>\n",
              "      <td>...</td>\n",
              "      <td>...</td>\n",
              "      <td>...</td>\n",
              "      <td>...</td>\n",
              "    </tr>\n",
              "    <tr>\n",
              "      <th>2702213</th>\n",
              "      <td>19</td>\n",
              "      <td>6</td>\n",
              "      <td>DL</td>\n",
              "      <td>13204</td>\n",
              "      <td>14869</td>\n",
              "      <td>1</td>\n",
              "      <td>-3</td>\n",
              "    </tr>\n",
              "    <tr>\n",
              "      <th>2702214</th>\n",
              "      <td>19</td>\n",
              "      <td>6</td>\n",
              "      <td>DL</td>\n",
              "      <td>10397</td>\n",
              "      <td>13495</td>\n",
              "      <td>-2</td>\n",
              "      <td>-3</td>\n",
              "    </tr>\n",
              "    <tr>\n",
              "      <th>2702215</th>\n",
              "      <td>19</td>\n",
              "      <td>6</td>\n",
              "      <td>DL</td>\n",
              "      <td>10140</td>\n",
              "      <td>10397</td>\n",
              "      <td>18</td>\n",
              "      <td>9</td>\n",
              "    </tr>\n",
              "    <tr>\n",
              "      <th>2702216</th>\n",
              "      <td>19</td>\n",
              "      <td>6</td>\n",
              "      <td>DL</td>\n",
              "      <td>10397</td>\n",
              "      <td>13244</td>\n",
              "      <td>10</td>\n",
              "      <td>7</td>\n",
              "    </tr>\n",
              "    <tr>\n",
              "      <th>2702217</th>\n",
              "      <td>19</td>\n",
              "      <td>6</td>\n",
              "      <td>DL</td>\n",
              "      <td>10397</td>\n",
              "      <td>13487</td>\n",
              "      <td>0</td>\n",
              "      <td>-13</td>\n",
              "    </tr>\n",
              "  </tbody>\n",
              "</table>\n",
              "<p>2702218 rows × 7 columns</p>\n",
              "</div>"
            ],
            "text/plain": [
              "         วันในเดือน  วันในสัปดาห์  ... ความล่าช้าขาออก  ความล่าช้าขาเข้า\n",
              "0                19             5  ...              -3                 1\n",
              "1                19             5  ...               0                -8\n",
              "2                19             5  ...              -4               -15\n",
              "3                19             5  ...              28                24\n",
              "4                19             5  ...              -6               -11\n",
              "...             ...           ...  ...             ...               ...\n",
              "2702213          19             6  ...               1                -3\n",
              "2702214          19             6  ...              -2                -3\n",
              "2702215          19             6  ...              18                 9\n",
              "2702216          19             6  ...              10                 7\n",
              "2702217          19             6  ...               0               -13\n",
              "\n",
              "[2702218 rows x 7 columns]"
            ]
          },
          "metadata": {},
          "execution_count": 42
        }
      ]
    },
    {
      "cell_type": "code",
      "metadata": {
        "id": "XKmDsSw1O3-0",
        "outputId": "4ec2727b-a6f7-4e72-9586-930df5aec8ba",
        "colab": {
          "base_uri": "https://localhost:8080/",
          "height": 419
        }
      },
      "source": [
        "airports = pd.read_csv(os.path.join(path,'airports.csv'))\n",
        "airports"
      ],
      "execution_count": 15,
      "outputs": [
        {
          "output_type": "execute_result",
          "data": {
            "text/html": [
              "<div>\n",
              "<style scoped>\n",
              "    .dataframe tbody tr th:only-of-type {\n",
              "        vertical-align: middle;\n",
              "    }\n",
              "\n",
              "    .dataframe tbody tr th {\n",
              "        vertical-align: top;\n",
              "    }\n",
              "\n",
              "    .dataframe thead th {\n",
              "        text-align: right;\n",
              "    }\n",
              "</style>\n",
              "<table border=\"1\" class=\"dataframe\">\n",
              "  <thead>\n",
              "    <tr style=\"text-align: right;\">\n",
              "      <th></th>\n",
              "      <th>รหัสสนามบิน</th>\n",
              "      <th>เมือง</th>\n",
              "      <th>รัฐ</th>\n",
              "      <th>ชื่อสนามบิน</th>\n",
              "    </tr>\n",
              "  </thead>\n",
              "  <tbody>\n",
              "    <tr>\n",
              "      <th>0</th>\n",
              "      <td>10165</td>\n",
              "      <td>Adak Island</td>\n",
              "      <td>AK</td>\n",
              "      <td>Adak</td>\n",
              "    </tr>\n",
              "    <tr>\n",
              "      <th>1</th>\n",
              "      <td>10299</td>\n",
              "      <td>Anchorage</td>\n",
              "      <td>AK</td>\n",
              "      <td>Ted Stevens Anchorage International</td>\n",
              "    </tr>\n",
              "    <tr>\n",
              "      <th>2</th>\n",
              "      <td>10304</td>\n",
              "      <td>Aniak</td>\n",
              "      <td>AK</td>\n",
              "      <td>Aniak Airport</td>\n",
              "    </tr>\n",
              "    <tr>\n",
              "      <th>3</th>\n",
              "      <td>10754</td>\n",
              "      <td>Barrow</td>\n",
              "      <td>AK</td>\n",
              "      <td>Wiley Post/Will Rogers Memorial</td>\n",
              "    </tr>\n",
              "    <tr>\n",
              "      <th>4</th>\n",
              "      <td>10551</td>\n",
              "      <td>Bethel</td>\n",
              "      <td>AK</td>\n",
              "      <td>Bethel Airport</td>\n",
              "    </tr>\n",
              "    <tr>\n",
              "      <th>...</th>\n",
              "      <td>...</td>\n",
              "      <td>...</td>\n",
              "      <td>...</td>\n",
              "      <td>...</td>\n",
              "    </tr>\n",
              "    <tr>\n",
              "      <th>360</th>\n",
              "      <td>11233</td>\n",
              "      <td>Cheyenne</td>\n",
              "      <td>WY</td>\n",
              "      <td>Cheyenne Regional/Jerry Olson Field</td>\n",
              "    </tr>\n",
              "    <tr>\n",
              "      <th>361</th>\n",
              "      <td>11097</td>\n",
              "      <td>Cody</td>\n",
              "      <td>WY</td>\n",
              "      <td>Yellowstone Regional</td>\n",
              "    </tr>\n",
              "    <tr>\n",
              "      <th>362</th>\n",
              "      <td>11865</td>\n",
              "      <td>Gillette</td>\n",
              "      <td>WY</td>\n",
              "      <td>Gillette Campbell County</td>\n",
              "    </tr>\n",
              "    <tr>\n",
              "      <th>363</th>\n",
              "      <td>12441</td>\n",
              "      <td>Jackson</td>\n",
              "      <td>WY</td>\n",
              "      <td>Jackson Hole</td>\n",
              "    </tr>\n",
              "    <tr>\n",
              "      <th>364</th>\n",
              "      <td>14543</td>\n",
              "      <td>Rock Springs</td>\n",
              "      <td>WY</td>\n",
              "      <td>Rock Springs Sweetwater County</td>\n",
              "    </tr>\n",
              "  </tbody>\n",
              "</table>\n",
              "<p>365 rows × 4 columns</p>\n",
              "</div>"
            ],
            "text/plain": [
              "     รหัสสนามบิน         เมือง รัฐ                          ชื่อสนามบิน\n",
              "0          10165   Adak Island  AK                                 Adak\n",
              "1          10299     Anchorage  AK  Ted Stevens Anchorage International\n",
              "2          10304         Aniak  AK                        Aniak Airport\n",
              "3          10754        Barrow  AK      Wiley Post/Will Rogers Memorial\n",
              "4          10551        Bethel  AK                       Bethel Airport\n",
              "..           ...           ...  ..                                  ...\n",
              "360        11233      Cheyenne  WY  Cheyenne Regional/Jerry Olson Field\n",
              "361        11097          Cody  WY                 Yellowstone Regional\n",
              "362        11865      Gillette  WY             Gillette Campbell County\n",
              "363        12441       Jackson  WY                         Jackson Hole\n",
              "364        14543  Rock Springs  WY       Rock Springs Sweetwater County\n",
              "\n",
              "[365 rows x 4 columns]"
            ]
          },
          "metadata": {},
          "execution_count": 15
        }
      ]
    },
    {
      "cell_type": "code",
      "metadata": {
        "id": "9vzby99vRVDH"
      },
      "source": [
        "def gen_exams(ID):\n",
        "    import math\n",
        "    a = int(ID[-1])%6\n",
        "    b = int(ID[-1])%3\n",
        "    print(f'รหัสนักศึกษา {ID} ทำข้อ {a} และ {b if a != b else 5-b}')"
      ],
      "execution_count": 16,
      "outputs": []
    },
    {
      "cell_type": "markdown",
      "metadata": {
        "id": "SRkSOtmhbv5G"
      },
      "source": [
        "ตัวอย่างการ run"
      ]
    },
    {
      "cell_type": "code",
      "metadata": {
        "colab": {
          "base_uri": "https://localhost:8080/"
        },
        "id": "zQQAtm8fZPYE",
        "outputId": "775b5bbe-37b3-494c-a00a-a7501132630e"
      },
      "source": [
        "gen_exams('623020042-0')"
      ],
      "execution_count": 17,
      "outputs": [
        {
          "output_type": "stream",
          "name": "stdout",
          "text": [
            "รหัสนักศึกษา 623020042-0 ทำข้อ 0 และ 5\n"
          ]
        }
      ]
    },
    {
      "cell_type": "markdown",
      "metadata": {
        "id": "NKnStfTfPkKm"
      },
      "source": [
        "### **หาค่า Missing ในตารางก่อน**"
      ]
    },
    {
      "cell_type": "code",
      "metadata": {
        "id": "P7jNlxWHZTCp",
        "outputId": "81c065bd-28dd-4764-bb94-86d96af0fe65",
        "colab": {
          "base_uri": "https://localhost:8080/",
          "height": 436
        }
      },
      "source": [
        "flights.isnull()"
      ],
      "execution_count": 18,
      "outputs": [
        {
          "output_type": "execute_result",
          "data": {
            "text/html": [
              "<div>\n",
              "<style scoped>\n",
              "    .dataframe tbody tr th:only-of-type {\n",
              "        vertical-align: middle;\n",
              "    }\n",
              "\n",
              "    .dataframe tbody tr th {\n",
              "        vertical-align: top;\n",
              "    }\n",
              "\n",
              "    .dataframe thead th {\n",
              "        text-align: right;\n",
              "    }\n",
              "</style>\n",
              "<table border=\"1\" class=\"dataframe\">\n",
              "  <thead>\n",
              "    <tr style=\"text-align: right;\">\n",
              "      <th></th>\n",
              "      <th>วันในเดือน</th>\n",
              "      <th>วันในสัปดาห์</th>\n",
              "      <th>สายการบิน</th>\n",
              "      <th>รหัสสนามบินต้นทาง</th>\n",
              "      <th>รหัสสนามบินปลายทาง</th>\n",
              "      <th>ความล่าช้าขาออก</th>\n",
              "      <th>ความล่าช้าขาเข้า</th>\n",
              "    </tr>\n",
              "  </thead>\n",
              "  <tbody>\n",
              "    <tr>\n",
              "      <th>0</th>\n",
              "      <td>False</td>\n",
              "      <td>False</td>\n",
              "      <td>False</td>\n",
              "      <td>False</td>\n",
              "      <td>False</td>\n",
              "      <td>False</td>\n",
              "      <td>False</td>\n",
              "    </tr>\n",
              "    <tr>\n",
              "      <th>1</th>\n",
              "      <td>False</td>\n",
              "      <td>False</td>\n",
              "      <td>False</td>\n",
              "      <td>False</td>\n",
              "      <td>False</td>\n",
              "      <td>False</td>\n",
              "      <td>False</td>\n",
              "    </tr>\n",
              "    <tr>\n",
              "      <th>2</th>\n",
              "      <td>False</td>\n",
              "      <td>False</td>\n",
              "      <td>False</td>\n",
              "      <td>False</td>\n",
              "      <td>False</td>\n",
              "      <td>False</td>\n",
              "      <td>False</td>\n",
              "    </tr>\n",
              "    <tr>\n",
              "      <th>3</th>\n",
              "      <td>False</td>\n",
              "      <td>False</td>\n",
              "      <td>False</td>\n",
              "      <td>False</td>\n",
              "      <td>False</td>\n",
              "      <td>False</td>\n",
              "      <td>False</td>\n",
              "    </tr>\n",
              "    <tr>\n",
              "      <th>4</th>\n",
              "      <td>False</td>\n",
              "      <td>False</td>\n",
              "      <td>False</td>\n",
              "      <td>False</td>\n",
              "      <td>False</td>\n",
              "      <td>False</td>\n",
              "      <td>False</td>\n",
              "    </tr>\n",
              "    <tr>\n",
              "      <th>...</th>\n",
              "      <td>...</td>\n",
              "      <td>...</td>\n",
              "      <td>...</td>\n",
              "      <td>...</td>\n",
              "      <td>...</td>\n",
              "      <td>...</td>\n",
              "      <td>...</td>\n",
              "    </tr>\n",
              "    <tr>\n",
              "      <th>2702213</th>\n",
              "      <td>False</td>\n",
              "      <td>False</td>\n",
              "      <td>False</td>\n",
              "      <td>False</td>\n",
              "      <td>False</td>\n",
              "      <td>False</td>\n",
              "      <td>False</td>\n",
              "    </tr>\n",
              "    <tr>\n",
              "      <th>2702214</th>\n",
              "      <td>False</td>\n",
              "      <td>False</td>\n",
              "      <td>False</td>\n",
              "      <td>False</td>\n",
              "      <td>False</td>\n",
              "      <td>False</td>\n",
              "      <td>False</td>\n",
              "    </tr>\n",
              "    <tr>\n",
              "      <th>2702215</th>\n",
              "      <td>False</td>\n",
              "      <td>False</td>\n",
              "      <td>False</td>\n",
              "      <td>False</td>\n",
              "      <td>False</td>\n",
              "      <td>False</td>\n",
              "      <td>False</td>\n",
              "    </tr>\n",
              "    <tr>\n",
              "      <th>2702216</th>\n",
              "      <td>False</td>\n",
              "      <td>False</td>\n",
              "      <td>False</td>\n",
              "      <td>False</td>\n",
              "      <td>False</td>\n",
              "      <td>False</td>\n",
              "      <td>False</td>\n",
              "    </tr>\n",
              "    <tr>\n",
              "      <th>2702217</th>\n",
              "      <td>False</td>\n",
              "      <td>False</td>\n",
              "      <td>False</td>\n",
              "      <td>False</td>\n",
              "      <td>False</td>\n",
              "      <td>False</td>\n",
              "      <td>False</td>\n",
              "    </tr>\n",
              "  </tbody>\n",
              "</table>\n",
              "<p>2702218 rows × 7 columns</p>\n",
              "</div>"
            ],
            "text/plain": [
              "         วันในเดือน  วันในสัปดาห์  ...  ความล่าช้าขาออก  ความล่าช้าขาเข้า\n",
              "0             False         False  ...            False             False\n",
              "1             False         False  ...            False             False\n",
              "2             False         False  ...            False             False\n",
              "3             False         False  ...            False             False\n",
              "4             False         False  ...            False             False\n",
              "...             ...           ...  ...              ...               ...\n",
              "2702213       False         False  ...            False             False\n",
              "2702214       False         False  ...            False             False\n",
              "2702215       False         False  ...            False             False\n",
              "2702216       False         False  ...            False             False\n",
              "2702217       False         False  ...            False             False\n",
              "\n",
              "[2702218 rows x 7 columns]"
            ]
          },
          "metadata": {},
          "execution_count": 18
        }
      ]
    },
    {
      "cell_type": "code",
      "metadata": {
        "id": "cq9kolEXQNne",
        "outputId": "94c5f8cd-0d40-495f-881f-772a1017f215",
        "colab": {
          "base_uri": "https://localhost:8080/"
        }
      },
      "source": [
        "flights.isnull().any()"
      ],
      "execution_count": 19,
      "outputs": [
        {
          "output_type": "execute_result",
          "data": {
            "text/plain": [
              "วันในเดือน            False\n",
              "วันในสัปดาห์          False\n",
              "สายการบิน             False\n",
              "รหัสสนามบินต้นทาง     False\n",
              "รหัสสนามบินปลายทาง    False\n",
              "ความล่าช้าขาออก       False\n",
              "ความล่าช้าขาเข้า      False\n",
              "dtype: bool"
            ]
          },
          "metadata": {},
          "execution_count": 19
        }
      ]
    },
    {
      "cell_type": "code",
      "metadata": {
        "id": "TIrarRAjQQg2",
        "outputId": "da871006-465f-47b2-9789-5ad994e6f892",
        "colab": {
          "base_uri": "https://localhost:8080/",
          "height": 419
        }
      },
      "source": [
        "airports.isnull()"
      ],
      "execution_count": 20,
      "outputs": [
        {
          "output_type": "execute_result",
          "data": {
            "text/html": [
              "<div>\n",
              "<style scoped>\n",
              "    .dataframe tbody tr th:only-of-type {\n",
              "        vertical-align: middle;\n",
              "    }\n",
              "\n",
              "    .dataframe tbody tr th {\n",
              "        vertical-align: top;\n",
              "    }\n",
              "\n",
              "    .dataframe thead th {\n",
              "        text-align: right;\n",
              "    }\n",
              "</style>\n",
              "<table border=\"1\" class=\"dataframe\">\n",
              "  <thead>\n",
              "    <tr style=\"text-align: right;\">\n",
              "      <th></th>\n",
              "      <th>รหัสสนามบิน</th>\n",
              "      <th>เมือง</th>\n",
              "      <th>รัฐ</th>\n",
              "      <th>ชื่อสนามบิน</th>\n",
              "    </tr>\n",
              "  </thead>\n",
              "  <tbody>\n",
              "    <tr>\n",
              "      <th>0</th>\n",
              "      <td>False</td>\n",
              "      <td>False</td>\n",
              "      <td>False</td>\n",
              "      <td>False</td>\n",
              "    </tr>\n",
              "    <tr>\n",
              "      <th>1</th>\n",
              "      <td>False</td>\n",
              "      <td>False</td>\n",
              "      <td>False</td>\n",
              "      <td>False</td>\n",
              "    </tr>\n",
              "    <tr>\n",
              "      <th>2</th>\n",
              "      <td>False</td>\n",
              "      <td>False</td>\n",
              "      <td>False</td>\n",
              "      <td>False</td>\n",
              "    </tr>\n",
              "    <tr>\n",
              "      <th>3</th>\n",
              "      <td>False</td>\n",
              "      <td>False</td>\n",
              "      <td>False</td>\n",
              "      <td>False</td>\n",
              "    </tr>\n",
              "    <tr>\n",
              "      <th>4</th>\n",
              "      <td>False</td>\n",
              "      <td>False</td>\n",
              "      <td>False</td>\n",
              "      <td>False</td>\n",
              "    </tr>\n",
              "    <tr>\n",
              "      <th>...</th>\n",
              "      <td>...</td>\n",
              "      <td>...</td>\n",
              "      <td>...</td>\n",
              "      <td>...</td>\n",
              "    </tr>\n",
              "    <tr>\n",
              "      <th>360</th>\n",
              "      <td>False</td>\n",
              "      <td>False</td>\n",
              "      <td>False</td>\n",
              "      <td>False</td>\n",
              "    </tr>\n",
              "    <tr>\n",
              "      <th>361</th>\n",
              "      <td>False</td>\n",
              "      <td>False</td>\n",
              "      <td>False</td>\n",
              "      <td>False</td>\n",
              "    </tr>\n",
              "    <tr>\n",
              "      <th>362</th>\n",
              "      <td>False</td>\n",
              "      <td>False</td>\n",
              "      <td>False</td>\n",
              "      <td>False</td>\n",
              "    </tr>\n",
              "    <tr>\n",
              "      <th>363</th>\n",
              "      <td>False</td>\n",
              "      <td>False</td>\n",
              "      <td>False</td>\n",
              "      <td>False</td>\n",
              "    </tr>\n",
              "    <tr>\n",
              "      <th>364</th>\n",
              "      <td>False</td>\n",
              "      <td>False</td>\n",
              "      <td>False</td>\n",
              "      <td>False</td>\n",
              "    </tr>\n",
              "  </tbody>\n",
              "</table>\n",
              "<p>365 rows × 4 columns</p>\n",
              "</div>"
            ],
            "text/plain": [
              "     รหัสสนามบิน  เมือง    รัฐ  ชื่อสนามบิน\n",
              "0          False  False  False        False\n",
              "1          False  False  False        False\n",
              "2          False  False  False        False\n",
              "3          False  False  False        False\n",
              "4          False  False  False        False\n",
              "..           ...    ...    ...          ...\n",
              "360        False  False  False        False\n",
              "361        False  False  False        False\n",
              "362        False  False  False        False\n",
              "363        False  False  False        False\n",
              "364        False  False  False        False\n",
              "\n",
              "[365 rows x 4 columns]"
            ]
          },
          "metadata": {},
          "execution_count": 20
        }
      ]
    },
    {
      "cell_type": "code",
      "metadata": {
        "id": "CDd3h4RyQW3S",
        "outputId": "74ed6e31-2d68-4cae-e620-7dd692295f72",
        "colab": {
          "base_uri": "https://localhost:8080/"
        }
      },
      "source": [
        "airports.isnull().any()"
      ],
      "execution_count": 21,
      "outputs": [
        {
          "output_type": "execute_result",
          "data": {
            "text/plain": [
              "รหัสสนามบิน    False\n",
              "เมือง          False\n",
              "รัฐ            False\n",
              "ชื่อสนามบิน    False\n",
              "dtype: bool"
            ]
          },
          "metadata": {},
          "execution_count": 21
        }
      ]
    },
    {
      "cell_type": "markdown",
      "metadata": {
        "id": "KwgA7Q1SQb9b"
      },
      "source": [
        "**ทั้ง 2 ตารางที่ให้มาไม่มีค่า Missing เลย เพราะเป็น False หมดทุกช่อง**"
      ]
    },
    {
      "cell_type": "markdown",
      "metadata": {
        "id": "bh7EoFZVRLXc"
      },
      "source": [
        "### **รวมตารางใหม่ เพื่อให้ดูง่ายขึ้น**"
      ]
    },
    {
      "cell_type": "code",
      "metadata": {
        "id": "5bZkTuPjQa9s",
        "outputId": "d0b68114-ba5e-4941-aae1-bbc1325f8b9b",
        "colab": {
          "base_uri": "https://localhost:8080/",
          "height": 674
        }
      },
      "source": [
        "arrive_plane = flights.merge(airports,how='left',left_on='รหัสสนามบินปลายทาง',right_on='รหัสสนามบิน')\n",
        "arrive_plane #how คือเอาตารางไหนเป็นตารางหลัก จะเห็นได้ว่ารหัสสนามบินปลายทางและรหัสสนามบิน มีรหัสที่ตรงกันเพราะการเชื่อมตาราง"
      ],
      "execution_count": 43,
      "outputs": [
        {
          "output_type": "execute_result",
          "data": {
            "text/html": [
              "<div>\n",
              "<style scoped>\n",
              "    .dataframe tbody tr th:only-of-type {\n",
              "        vertical-align: middle;\n",
              "    }\n",
              "\n",
              "    .dataframe tbody tr th {\n",
              "        vertical-align: top;\n",
              "    }\n",
              "\n",
              "    .dataframe thead th {\n",
              "        text-align: right;\n",
              "    }\n",
              "</style>\n",
              "<table border=\"1\" class=\"dataframe\">\n",
              "  <thead>\n",
              "    <tr style=\"text-align: right;\">\n",
              "      <th></th>\n",
              "      <th>วันในเดือน</th>\n",
              "      <th>วันในสัปดาห์</th>\n",
              "      <th>สายการบิน</th>\n",
              "      <th>รหัสสนามบินต้นทาง</th>\n",
              "      <th>รหัสสนามบินปลายทาง</th>\n",
              "      <th>ความล่าช้าขาออก</th>\n",
              "      <th>ความล่าช้าขาเข้า</th>\n",
              "      <th>รหัสสนามบิน</th>\n",
              "      <th>เมือง</th>\n",
              "      <th>รัฐ</th>\n",
              "      <th>ชื่อสนามบิน</th>\n",
              "    </tr>\n",
              "  </thead>\n",
              "  <tbody>\n",
              "    <tr>\n",
              "      <th>0</th>\n",
              "      <td>19</td>\n",
              "      <td>5</td>\n",
              "      <td>DL</td>\n",
              "      <td>11433</td>\n",
              "      <td>13303</td>\n",
              "      <td>-3</td>\n",
              "      <td>1</td>\n",
              "      <td>13303</td>\n",
              "      <td>Miami</td>\n",
              "      <td>FL</td>\n",
              "      <td>Miami International</td>\n",
              "    </tr>\n",
              "    <tr>\n",
              "      <th>1</th>\n",
              "      <td>19</td>\n",
              "      <td>5</td>\n",
              "      <td>DL</td>\n",
              "      <td>14869</td>\n",
              "      <td>12478</td>\n",
              "      <td>0</td>\n",
              "      <td>-8</td>\n",
              "      <td>12478</td>\n",
              "      <td>New York</td>\n",
              "      <td>NY</td>\n",
              "      <td>John F. Kennedy International</td>\n",
              "    </tr>\n",
              "    <tr>\n",
              "      <th>2</th>\n",
              "      <td>19</td>\n",
              "      <td>5</td>\n",
              "      <td>DL</td>\n",
              "      <td>14057</td>\n",
              "      <td>14869</td>\n",
              "      <td>-4</td>\n",
              "      <td>-15</td>\n",
              "      <td>14869</td>\n",
              "      <td>Salt Lake City</td>\n",
              "      <td>UT</td>\n",
              "      <td>Salt Lake City International</td>\n",
              "    </tr>\n",
              "    <tr>\n",
              "      <th>3</th>\n",
              "      <td>19</td>\n",
              "      <td>5</td>\n",
              "      <td>DL</td>\n",
              "      <td>15016</td>\n",
              "      <td>11433</td>\n",
              "      <td>28</td>\n",
              "      <td>24</td>\n",
              "      <td>11433</td>\n",
              "      <td>Detroit</td>\n",
              "      <td>MI</td>\n",
              "      <td>Detroit Metro Wayne County</td>\n",
              "    </tr>\n",
              "    <tr>\n",
              "      <th>4</th>\n",
              "      <td>19</td>\n",
              "      <td>5</td>\n",
              "      <td>DL</td>\n",
              "      <td>11193</td>\n",
              "      <td>12892</td>\n",
              "      <td>-6</td>\n",
              "      <td>-11</td>\n",
              "      <td>12892</td>\n",
              "      <td>Los Angeles</td>\n",
              "      <td>CA</td>\n",
              "      <td>Los Angeles International</td>\n",
              "    </tr>\n",
              "    <tr>\n",
              "      <th>...</th>\n",
              "      <td>...</td>\n",
              "      <td>...</td>\n",
              "      <td>...</td>\n",
              "      <td>...</td>\n",
              "      <td>...</td>\n",
              "      <td>...</td>\n",
              "      <td>...</td>\n",
              "      <td>...</td>\n",
              "      <td>...</td>\n",
              "      <td>...</td>\n",
              "      <td>...</td>\n",
              "    </tr>\n",
              "    <tr>\n",
              "      <th>2702213</th>\n",
              "      <td>19</td>\n",
              "      <td>6</td>\n",
              "      <td>DL</td>\n",
              "      <td>13204</td>\n",
              "      <td>14869</td>\n",
              "      <td>1</td>\n",
              "      <td>-3</td>\n",
              "      <td>14869</td>\n",
              "      <td>Salt Lake City</td>\n",
              "      <td>UT</td>\n",
              "      <td>Salt Lake City International</td>\n",
              "    </tr>\n",
              "    <tr>\n",
              "      <th>2702214</th>\n",
              "      <td>19</td>\n",
              "      <td>6</td>\n",
              "      <td>DL</td>\n",
              "      <td>10397</td>\n",
              "      <td>13495</td>\n",
              "      <td>-2</td>\n",
              "      <td>-3</td>\n",
              "      <td>13495</td>\n",
              "      <td>New Orleans</td>\n",
              "      <td>LA</td>\n",
              "      <td>Louis Armstrong New Orleans International</td>\n",
              "    </tr>\n",
              "    <tr>\n",
              "      <th>2702215</th>\n",
              "      <td>19</td>\n",
              "      <td>6</td>\n",
              "      <td>DL</td>\n",
              "      <td>10140</td>\n",
              "      <td>10397</td>\n",
              "      <td>18</td>\n",
              "      <td>9</td>\n",
              "      <td>10397</td>\n",
              "      <td>Atlanta</td>\n",
              "      <td>GA</td>\n",
              "      <td>Hartsfield-Jackson Atlanta International</td>\n",
              "    </tr>\n",
              "    <tr>\n",
              "      <th>2702216</th>\n",
              "      <td>19</td>\n",
              "      <td>6</td>\n",
              "      <td>DL</td>\n",
              "      <td>10397</td>\n",
              "      <td>13244</td>\n",
              "      <td>10</td>\n",
              "      <td>7</td>\n",
              "      <td>13244</td>\n",
              "      <td>Memphis</td>\n",
              "      <td>TN</td>\n",
              "      <td>Memphis International</td>\n",
              "    </tr>\n",
              "    <tr>\n",
              "      <th>2702217</th>\n",
              "      <td>19</td>\n",
              "      <td>6</td>\n",
              "      <td>DL</td>\n",
              "      <td>10397</td>\n",
              "      <td>13487</td>\n",
              "      <td>0</td>\n",
              "      <td>-13</td>\n",
              "      <td>13487</td>\n",
              "      <td>Minneapolis</td>\n",
              "      <td>MN</td>\n",
              "      <td>Minneapolis-St Paul International</td>\n",
              "    </tr>\n",
              "  </tbody>\n",
              "</table>\n",
              "<p>2702218 rows × 11 columns</p>\n",
              "</div>"
            ],
            "text/plain": [
              "         วันในเดือน  ...                                ชื่อสนามบิน\n",
              "0                19  ...                        Miami International\n",
              "1                19  ...              John F. Kennedy International\n",
              "2                19  ...               Salt Lake City International\n",
              "3                19  ...                 Detroit Metro Wayne County\n",
              "4                19  ...                  Los Angeles International\n",
              "...             ...  ...                                        ...\n",
              "2702213          19  ...               Salt Lake City International\n",
              "2702214          19  ...  Louis Armstrong New Orleans International\n",
              "2702215          19  ...   Hartsfield-Jackson Atlanta International\n",
              "2702216          19  ...                      Memphis International\n",
              "2702217          19  ...          Minneapolis-St Paul International\n",
              "\n",
              "[2702218 rows x 11 columns]"
            ]
          },
          "metadata": {},
          "execution_count": 43
        }
      ]
    },
    {
      "cell_type": "markdown",
      "metadata": {
        "id": "2QF_awzUY7x6"
      },
      "source": [
        "**ตัด Column รหัสสนามบินต้นทางออก เพื่อให้ดูง่ายขึ้นว่าตารางนี้คือตารางเครื่องบินขาเข้า**"
      ]
    },
    {
      "cell_type": "code",
      "metadata": {
        "id": "c8caMyrvYrA1"
      },
      "source": [
        "arrive_plane.drop(['รหัสสนามบินต้นทาง'], axis=1, inplace=True)"
      ],
      "execution_count": 47,
      "outputs": []
    },
    {
      "cell_type": "markdown",
      "metadata": {
        "id": "TfRr94gEZH1p"
      },
      "source": [
        "**ตารางเครื่องบินขาเข้า**"
      ]
    },
    {
      "cell_type": "code",
      "metadata": {
        "id": "XoCh4_42Yw4T",
        "outputId": "bc25113c-8955-4156-9ba6-bf3356814124",
        "colab": {
          "base_uri": "https://localhost:8080/",
          "height": 589
        }
      },
      "source": [
        "arrive_plane"
      ],
      "execution_count": 48,
      "outputs": [
        {
          "output_type": "execute_result",
          "data": {
            "text/html": [
              "<div>\n",
              "<style scoped>\n",
              "    .dataframe tbody tr th:only-of-type {\n",
              "        vertical-align: middle;\n",
              "    }\n",
              "\n",
              "    .dataframe tbody tr th {\n",
              "        vertical-align: top;\n",
              "    }\n",
              "\n",
              "    .dataframe thead th {\n",
              "        text-align: right;\n",
              "    }\n",
              "</style>\n",
              "<table border=\"1\" class=\"dataframe\">\n",
              "  <thead>\n",
              "    <tr style=\"text-align: right;\">\n",
              "      <th></th>\n",
              "      <th>วันในเดือน</th>\n",
              "      <th>วันในสัปดาห์</th>\n",
              "      <th>สายการบิน</th>\n",
              "      <th>รหัสสนามบินปลายทาง</th>\n",
              "      <th>ความล่าช้าขาออก</th>\n",
              "      <th>ความล่าช้าขาเข้า</th>\n",
              "      <th>รหัสสนามบิน</th>\n",
              "      <th>เมือง</th>\n",
              "      <th>รัฐ</th>\n",
              "      <th>ชื่อสนามบิน</th>\n",
              "    </tr>\n",
              "  </thead>\n",
              "  <tbody>\n",
              "    <tr>\n",
              "      <th>0</th>\n",
              "      <td>19</td>\n",
              "      <td>5</td>\n",
              "      <td>DL</td>\n",
              "      <td>13303</td>\n",
              "      <td>-3</td>\n",
              "      <td>1</td>\n",
              "      <td>13303</td>\n",
              "      <td>Miami</td>\n",
              "      <td>FL</td>\n",
              "      <td>Miami International</td>\n",
              "    </tr>\n",
              "    <tr>\n",
              "      <th>1</th>\n",
              "      <td>19</td>\n",
              "      <td>5</td>\n",
              "      <td>DL</td>\n",
              "      <td>12478</td>\n",
              "      <td>0</td>\n",
              "      <td>-8</td>\n",
              "      <td>12478</td>\n",
              "      <td>New York</td>\n",
              "      <td>NY</td>\n",
              "      <td>John F. Kennedy International</td>\n",
              "    </tr>\n",
              "    <tr>\n",
              "      <th>2</th>\n",
              "      <td>19</td>\n",
              "      <td>5</td>\n",
              "      <td>DL</td>\n",
              "      <td>14869</td>\n",
              "      <td>-4</td>\n",
              "      <td>-15</td>\n",
              "      <td>14869</td>\n",
              "      <td>Salt Lake City</td>\n",
              "      <td>UT</td>\n",
              "      <td>Salt Lake City International</td>\n",
              "    </tr>\n",
              "    <tr>\n",
              "      <th>3</th>\n",
              "      <td>19</td>\n",
              "      <td>5</td>\n",
              "      <td>DL</td>\n",
              "      <td>11433</td>\n",
              "      <td>28</td>\n",
              "      <td>24</td>\n",
              "      <td>11433</td>\n",
              "      <td>Detroit</td>\n",
              "      <td>MI</td>\n",
              "      <td>Detroit Metro Wayne County</td>\n",
              "    </tr>\n",
              "    <tr>\n",
              "      <th>4</th>\n",
              "      <td>19</td>\n",
              "      <td>5</td>\n",
              "      <td>DL</td>\n",
              "      <td>12892</td>\n",
              "      <td>-6</td>\n",
              "      <td>-11</td>\n",
              "      <td>12892</td>\n",
              "      <td>Los Angeles</td>\n",
              "      <td>CA</td>\n",
              "      <td>Los Angeles International</td>\n",
              "    </tr>\n",
              "    <tr>\n",
              "      <th>...</th>\n",
              "      <td>...</td>\n",
              "      <td>...</td>\n",
              "      <td>...</td>\n",
              "      <td>...</td>\n",
              "      <td>...</td>\n",
              "      <td>...</td>\n",
              "      <td>...</td>\n",
              "      <td>...</td>\n",
              "      <td>...</td>\n",
              "      <td>...</td>\n",
              "    </tr>\n",
              "    <tr>\n",
              "      <th>2702213</th>\n",
              "      <td>19</td>\n",
              "      <td>6</td>\n",
              "      <td>DL</td>\n",
              "      <td>14869</td>\n",
              "      <td>1</td>\n",
              "      <td>-3</td>\n",
              "      <td>14869</td>\n",
              "      <td>Salt Lake City</td>\n",
              "      <td>UT</td>\n",
              "      <td>Salt Lake City International</td>\n",
              "    </tr>\n",
              "    <tr>\n",
              "      <th>2702214</th>\n",
              "      <td>19</td>\n",
              "      <td>6</td>\n",
              "      <td>DL</td>\n",
              "      <td>13495</td>\n",
              "      <td>-2</td>\n",
              "      <td>-3</td>\n",
              "      <td>13495</td>\n",
              "      <td>New Orleans</td>\n",
              "      <td>LA</td>\n",
              "      <td>Louis Armstrong New Orleans International</td>\n",
              "    </tr>\n",
              "    <tr>\n",
              "      <th>2702215</th>\n",
              "      <td>19</td>\n",
              "      <td>6</td>\n",
              "      <td>DL</td>\n",
              "      <td>10397</td>\n",
              "      <td>18</td>\n",
              "      <td>9</td>\n",
              "      <td>10397</td>\n",
              "      <td>Atlanta</td>\n",
              "      <td>GA</td>\n",
              "      <td>Hartsfield-Jackson Atlanta International</td>\n",
              "    </tr>\n",
              "    <tr>\n",
              "      <th>2702216</th>\n",
              "      <td>19</td>\n",
              "      <td>6</td>\n",
              "      <td>DL</td>\n",
              "      <td>13244</td>\n",
              "      <td>10</td>\n",
              "      <td>7</td>\n",
              "      <td>13244</td>\n",
              "      <td>Memphis</td>\n",
              "      <td>TN</td>\n",
              "      <td>Memphis International</td>\n",
              "    </tr>\n",
              "    <tr>\n",
              "      <th>2702217</th>\n",
              "      <td>19</td>\n",
              "      <td>6</td>\n",
              "      <td>DL</td>\n",
              "      <td>13487</td>\n",
              "      <td>0</td>\n",
              "      <td>-13</td>\n",
              "      <td>13487</td>\n",
              "      <td>Minneapolis</td>\n",
              "      <td>MN</td>\n",
              "      <td>Minneapolis-St Paul International</td>\n",
              "    </tr>\n",
              "  </tbody>\n",
              "</table>\n",
              "<p>2702218 rows × 10 columns</p>\n",
              "</div>"
            ],
            "text/plain": [
              "         วันในเดือน  ...                                ชื่อสนามบิน\n",
              "0                19  ...                        Miami International\n",
              "1                19  ...              John F. Kennedy International\n",
              "2                19  ...               Salt Lake City International\n",
              "3                19  ...                 Detroit Metro Wayne County\n",
              "4                19  ...                  Los Angeles International\n",
              "...             ...  ...                                        ...\n",
              "2702213          19  ...               Salt Lake City International\n",
              "2702214          19  ...  Louis Armstrong New Orleans International\n",
              "2702215          19  ...   Hartsfield-Jackson Atlanta International\n",
              "2702216          19  ...                      Memphis International\n",
              "2702217          19  ...          Minneapolis-St Paul International\n",
              "\n",
              "[2702218 rows x 10 columns]"
            ]
          },
          "metadata": {},
          "execution_count": 48
        }
      ]
    },
    {
      "cell_type": "markdown",
      "metadata": {
        "id": "k6eEbkNMZW2Y"
      },
      "source": [
        "**เช็คค่า Missing**"
      ]
    },
    {
      "cell_type": "code",
      "metadata": {
        "id": "ugz8T2ZYZa86",
        "outputId": "e2f3ab10-ae67-4d9c-e1fc-24778a10c74b",
        "colab": {
          "base_uri": "https://localhost:8080/"
        }
      },
      "source": [
        "arrive_plane.isnull().any()"
      ],
      "execution_count": 51,
      "outputs": [
        {
          "output_type": "execute_result",
          "data": {
            "text/plain": [
              "วันในเดือน            False\n",
              "วันในสัปดาห์          False\n",
              "สายการบิน             False\n",
              "รหัสสนามบินปลายทาง    False\n",
              "ความล่าช้าขาออก       False\n",
              "ความล่าช้าขาเข้า      False\n",
              "รหัสสนามบิน           False\n",
              "เมือง                 False\n",
              "รัฐ                   False\n",
              "ชื่อสนามบิน           False\n",
              "dtype: bool"
            ]
          },
          "metadata": {},
          "execution_count": 51
        }
      ]
    },
    {
      "cell_type": "markdown",
      "metadata": {
        "id": "tmPsxzdaZfs5"
      },
      "source": [
        "**ทุกคอลัมป์เป็น False แสดงว่าไม่มีค่า Missing**"
      ]
    },
    {
      "cell_type": "code",
      "metadata": {
        "id": "BUDtuqgfYLzb",
        "outputId": "2ebedfb2-9353-4c45-aefd-67d906b28be2",
        "colab": {
          "base_uri": "https://localhost:8080/",
          "height": 623
        }
      },
      "source": [
        "outbound_plane = flights.merge(airports,how='left',left_on='รหัสสนามบินต้นทาง',right_on='รหัสสนามบิน')\n",
        "outbound_plane #how คือเอาตารางไหนเป็นตารางหลัก จะเห็นได้ว่ารหัสสนามบินต้นทางและรหัสสนามบิน มีรหัสที่ตรงกันเพราะการเชื่อมตาราง"
      ],
      "execution_count": 46,
      "outputs": [
        {
          "output_type": "execute_result",
          "data": {
            "text/html": [
              "<div>\n",
              "<style scoped>\n",
              "    .dataframe tbody tr th:only-of-type {\n",
              "        vertical-align: middle;\n",
              "    }\n",
              "\n",
              "    .dataframe tbody tr th {\n",
              "        vertical-align: top;\n",
              "    }\n",
              "\n",
              "    .dataframe thead th {\n",
              "        text-align: right;\n",
              "    }\n",
              "</style>\n",
              "<table border=\"1\" class=\"dataframe\">\n",
              "  <thead>\n",
              "    <tr style=\"text-align: right;\">\n",
              "      <th></th>\n",
              "      <th>วันในเดือน</th>\n",
              "      <th>วันในสัปดาห์</th>\n",
              "      <th>สายการบิน</th>\n",
              "      <th>รหัสสนามบินต้นทาง</th>\n",
              "      <th>รหัสสนามบินปลายทาง</th>\n",
              "      <th>ความล่าช้าขาออก</th>\n",
              "      <th>ความล่าช้าขาเข้า</th>\n",
              "      <th>รหัสสนามบิน</th>\n",
              "      <th>เมือง</th>\n",
              "      <th>รัฐ</th>\n",
              "      <th>ชื่อสนามบิน</th>\n",
              "    </tr>\n",
              "  </thead>\n",
              "  <tbody>\n",
              "    <tr>\n",
              "      <th>0</th>\n",
              "      <td>19</td>\n",
              "      <td>5</td>\n",
              "      <td>DL</td>\n",
              "      <td>11433</td>\n",
              "      <td>13303</td>\n",
              "      <td>-3</td>\n",
              "      <td>1</td>\n",
              "      <td>11433</td>\n",
              "      <td>Detroit</td>\n",
              "      <td>MI</td>\n",
              "      <td>Detroit Metro Wayne County</td>\n",
              "    </tr>\n",
              "    <tr>\n",
              "      <th>1</th>\n",
              "      <td>19</td>\n",
              "      <td>5</td>\n",
              "      <td>DL</td>\n",
              "      <td>14869</td>\n",
              "      <td>12478</td>\n",
              "      <td>0</td>\n",
              "      <td>-8</td>\n",
              "      <td>14869</td>\n",
              "      <td>Salt Lake City</td>\n",
              "      <td>UT</td>\n",
              "      <td>Salt Lake City International</td>\n",
              "    </tr>\n",
              "    <tr>\n",
              "      <th>2</th>\n",
              "      <td>19</td>\n",
              "      <td>5</td>\n",
              "      <td>DL</td>\n",
              "      <td>14057</td>\n",
              "      <td>14869</td>\n",
              "      <td>-4</td>\n",
              "      <td>-15</td>\n",
              "      <td>14057</td>\n",
              "      <td>Portland</td>\n",
              "      <td>OR</td>\n",
              "      <td>Portland International</td>\n",
              "    </tr>\n",
              "    <tr>\n",
              "      <th>3</th>\n",
              "      <td>19</td>\n",
              "      <td>5</td>\n",
              "      <td>DL</td>\n",
              "      <td>15016</td>\n",
              "      <td>11433</td>\n",
              "      <td>28</td>\n",
              "      <td>24</td>\n",
              "      <td>15016</td>\n",
              "      <td>St. Louis</td>\n",
              "      <td>MO</td>\n",
              "      <td>Lambert-St. Louis International</td>\n",
              "    </tr>\n",
              "    <tr>\n",
              "      <th>4</th>\n",
              "      <td>19</td>\n",
              "      <td>5</td>\n",
              "      <td>DL</td>\n",
              "      <td>11193</td>\n",
              "      <td>12892</td>\n",
              "      <td>-6</td>\n",
              "      <td>-11</td>\n",
              "      <td>11193</td>\n",
              "      <td>Cincinnati</td>\n",
              "      <td>OH</td>\n",
              "      <td>Cincinnati/Northern Kentucky International</td>\n",
              "    </tr>\n",
              "    <tr>\n",
              "      <th>...</th>\n",
              "      <td>...</td>\n",
              "      <td>...</td>\n",
              "      <td>...</td>\n",
              "      <td>...</td>\n",
              "      <td>...</td>\n",
              "      <td>...</td>\n",
              "      <td>...</td>\n",
              "      <td>...</td>\n",
              "      <td>...</td>\n",
              "      <td>...</td>\n",
              "      <td>...</td>\n",
              "    </tr>\n",
              "    <tr>\n",
              "      <th>2702213</th>\n",
              "      <td>19</td>\n",
              "      <td>6</td>\n",
              "      <td>DL</td>\n",
              "      <td>13204</td>\n",
              "      <td>14869</td>\n",
              "      <td>1</td>\n",
              "      <td>-3</td>\n",
              "      <td>13204</td>\n",
              "      <td>Orlando</td>\n",
              "      <td>FL</td>\n",
              "      <td>Orlando International</td>\n",
              "    </tr>\n",
              "    <tr>\n",
              "      <th>2702214</th>\n",
              "      <td>19</td>\n",
              "      <td>6</td>\n",
              "      <td>DL</td>\n",
              "      <td>10397</td>\n",
              "      <td>13495</td>\n",
              "      <td>-2</td>\n",
              "      <td>-3</td>\n",
              "      <td>10397</td>\n",
              "      <td>Atlanta</td>\n",
              "      <td>GA</td>\n",
              "      <td>Hartsfield-Jackson Atlanta International</td>\n",
              "    </tr>\n",
              "    <tr>\n",
              "      <th>2702215</th>\n",
              "      <td>19</td>\n",
              "      <td>6</td>\n",
              "      <td>DL</td>\n",
              "      <td>10140</td>\n",
              "      <td>10397</td>\n",
              "      <td>18</td>\n",
              "      <td>9</td>\n",
              "      <td>10140</td>\n",
              "      <td>Albuquerque</td>\n",
              "      <td>NM</td>\n",
              "      <td>Albuquerque International Sunport</td>\n",
              "    </tr>\n",
              "    <tr>\n",
              "      <th>2702216</th>\n",
              "      <td>19</td>\n",
              "      <td>6</td>\n",
              "      <td>DL</td>\n",
              "      <td>10397</td>\n",
              "      <td>13244</td>\n",
              "      <td>10</td>\n",
              "      <td>7</td>\n",
              "      <td>10397</td>\n",
              "      <td>Atlanta</td>\n",
              "      <td>GA</td>\n",
              "      <td>Hartsfield-Jackson Atlanta International</td>\n",
              "    </tr>\n",
              "    <tr>\n",
              "      <th>2702217</th>\n",
              "      <td>19</td>\n",
              "      <td>6</td>\n",
              "      <td>DL</td>\n",
              "      <td>10397</td>\n",
              "      <td>13487</td>\n",
              "      <td>0</td>\n",
              "      <td>-13</td>\n",
              "      <td>10397</td>\n",
              "      <td>Atlanta</td>\n",
              "      <td>GA</td>\n",
              "      <td>Hartsfield-Jackson Atlanta International</td>\n",
              "    </tr>\n",
              "  </tbody>\n",
              "</table>\n",
              "<p>2702218 rows × 11 columns</p>\n",
              "</div>"
            ],
            "text/plain": [
              "         วันในเดือน  ...                                 ชื่อสนามบิน\n",
              "0                19  ...                  Detroit Metro Wayne County\n",
              "1                19  ...                Salt Lake City International\n",
              "2                19  ...                      Portland International\n",
              "3                19  ...             Lambert-St. Louis International\n",
              "4                19  ...  Cincinnati/Northern Kentucky International\n",
              "...             ...  ...                                         ...\n",
              "2702213          19  ...                       Orlando International\n",
              "2702214          19  ...    Hartsfield-Jackson Atlanta International\n",
              "2702215          19  ...           Albuquerque International Sunport\n",
              "2702216          19  ...    Hartsfield-Jackson Atlanta International\n",
              "2702217          19  ...    Hartsfield-Jackson Atlanta International\n",
              "\n",
              "[2702218 rows x 11 columns]"
            ]
          },
          "metadata": {},
          "execution_count": 46
        }
      ]
    },
    {
      "cell_type": "markdown",
      "metadata": {
        "id": "KySog4SkZOFg"
      },
      "source": [
        "**ตัด Column รหัสสนามบินปลายทางออก เพื่อให้ดูง่ายขึ้นว่าตารางนี้คือตารางเครื่องบินขาออก**"
      ]
    },
    {
      "cell_type": "code",
      "metadata": {
        "id": "BcDkI792YzH5"
      },
      "source": [
        "outbound_plane.drop(['รหัสสนามบินปลายทาง'], axis=1, inplace=True)"
      ],
      "execution_count": 49,
      "outputs": []
    },
    {
      "cell_type": "markdown",
      "metadata": {
        "id": "tpqL5VtOZSQj"
      },
      "source": [
        "**ตารางเครื่องบินขาออก**"
      ]
    },
    {
      "cell_type": "code",
      "metadata": {
        "id": "J1fEfCQPY4rc",
        "outputId": "625d2b2e-37df-4016-bb91-d38e0941aaf5",
        "colab": {
          "base_uri": "https://localhost:8080/",
          "height": 589
        }
      },
      "source": [
        "outbound_plane"
      ],
      "execution_count": 50,
      "outputs": [
        {
          "output_type": "execute_result",
          "data": {
            "text/html": [
              "<div>\n",
              "<style scoped>\n",
              "    .dataframe tbody tr th:only-of-type {\n",
              "        vertical-align: middle;\n",
              "    }\n",
              "\n",
              "    .dataframe tbody tr th {\n",
              "        vertical-align: top;\n",
              "    }\n",
              "\n",
              "    .dataframe thead th {\n",
              "        text-align: right;\n",
              "    }\n",
              "</style>\n",
              "<table border=\"1\" class=\"dataframe\">\n",
              "  <thead>\n",
              "    <tr style=\"text-align: right;\">\n",
              "      <th></th>\n",
              "      <th>วันในเดือน</th>\n",
              "      <th>วันในสัปดาห์</th>\n",
              "      <th>สายการบิน</th>\n",
              "      <th>รหัสสนามบินต้นทาง</th>\n",
              "      <th>ความล่าช้าขาออก</th>\n",
              "      <th>ความล่าช้าขาเข้า</th>\n",
              "      <th>รหัสสนามบิน</th>\n",
              "      <th>เมือง</th>\n",
              "      <th>รัฐ</th>\n",
              "      <th>ชื่อสนามบิน</th>\n",
              "    </tr>\n",
              "  </thead>\n",
              "  <tbody>\n",
              "    <tr>\n",
              "      <th>0</th>\n",
              "      <td>19</td>\n",
              "      <td>5</td>\n",
              "      <td>DL</td>\n",
              "      <td>11433</td>\n",
              "      <td>-3</td>\n",
              "      <td>1</td>\n",
              "      <td>11433</td>\n",
              "      <td>Detroit</td>\n",
              "      <td>MI</td>\n",
              "      <td>Detroit Metro Wayne County</td>\n",
              "    </tr>\n",
              "    <tr>\n",
              "      <th>1</th>\n",
              "      <td>19</td>\n",
              "      <td>5</td>\n",
              "      <td>DL</td>\n",
              "      <td>14869</td>\n",
              "      <td>0</td>\n",
              "      <td>-8</td>\n",
              "      <td>14869</td>\n",
              "      <td>Salt Lake City</td>\n",
              "      <td>UT</td>\n",
              "      <td>Salt Lake City International</td>\n",
              "    </tr>\n",
              "    <tr>\n",
              "      <th>2</th>\n",
              "      <td>19</td>\n",
              "      <td>5</td>\n",
              "      <td>DL</td>\n",
              "      <td>14057</td>\n",
              "      <td>-4</td>\n",
              "      <td>-15</td>\n",
              "      <td>14057</td>\n",
              "      <td>Portland</td>\n",
              "      <td>OR</td>\n",
              "      <td>Portland International</td>\n",
              "    </tr>\n",
              "    <tr>\n",
              "      <th>3</th>\n",
              "      <td>19</td>\n",
              "      <td>5</td>\n",
              "      <td>DL</td>\n",
              "      <td>15016</td>\n",
              "      <td>28</td>\n",
              "      <td>24</td>\n",
              "      <td>15016</td>\n",
              "      <td>St. Louis</td>\n",
              "      <td>MO</td>\n",
              "      <td>Lambert-St. Louis International</td>\n",
              "    </tr>\n",
              "    <tr>\n",
              "      <th>4</th>\n",
              "      <td>19</td>\n",
              "      <td>5</td>\n",
              "      <td>DL</td>\n",
              "      <td>11193</td>\n",
              "      <td>-6</td>\n",
              "      <td>-11</td>\n",
              "      <td>11193</td>\n",
              "      <td>Cincinnati</td>\n",
              "      <td>OH</td>\n",
              "      <td>Cincinnati/Northern Kentucky International</td>\n",
              "    </tr>\n",
              "    <tr>\n",
              "      <th>...</th>\n",
              "      <td>...</td>\n",
              "      <td>...</td>\n",
              "      <td>...</td>\n",
              "      <td>...</td>\n",
              "      <td>...</td>\n",
              "      <td>...</td>\n",
              "      <td>...</td>\n",
              "      <td>...</td>\n",
              "      <td>...</td>\n",
              "      <td>...</td>\n",
              "    </tr>\n",
              "    <tr>\n",
              "      <th>2702213</th>\n",
              "      <td>19</td>\n",
              "      <td>6</td>\n",
              "      <td>DL</td>\n",
              "      <td>13204</td>\n",
              "      <td>1</td>\n",
              "      <td>-3</td>\n",
              "      <td>13204</td>\n",
              "      <td>Orlando</td>\n",
              "      <td>FL</td>\n",
              "      <td>Orlando International</td>\n",
              "    </tr>\n",
              "    <tr>\n",
              "      <th>2702214</th>\n",
              "      <td>19</td>\n",
              "      <td>6</td>\n",
              "      <td>DL</td>\n",
              "      <td>10397</td>\n",
              "      <td>-2</td>\n",
              "      <td>-3</td>\n",
              "      <td>10397</td>\n",
              "      <td>Atlanta</td>\n",
              "      <td>GA</td>\n",
              "      <td>Hartsfield-Jackson Atlanta International</td>\n",
              "    </tr>\n",
              "    <tr>\n",
              "      <th>2702215</th>\n",
              "      <td>19</td>\n",
              "      <td>6</td>\n",
              "      <td>DL</td>\n",
              "      <td>10140</td>\n",
              "      <td>18</td>\n",
              "      <td>9</td>\n",
              "      <td>10140</td>\n",
              "      <td>Albuquerque</td>\n",
              "      <td>NM</td>\n",
              "      <td>Albuquerque International Sunport</td>\n",
              "    </tr>\n",
              "    <tr>\n",
              "      <th>2702216</th>\n",
              "      <td>19</td>\n",
              "      <td>6</td>\n",
              "      <td>DL</td>\n",
              "      <td>10397</td>\n",
              "      <td>10</td>\n",
              "      <td>7</td>\n",
              "      <td>10397</td>\n",
              "      <td>Atlanta</td>\n",
              "      <td>GA</td>\n",
              "      <td>Hartsfield-Jackson Atlanta International</td>\n",
              "    </tr>\n",
              "    <tr>\n",
              "      <th>2702217</th>\n",
              "      <td>19</td>\n",
              "      <td>6</td>\n",
              "      <td>DL</td>\n",
              "      <td>10397</td>\n",
              "      <td>0</td>\n",
              "      <td>-13</td>\n",
              "      <td>10397</td>\n",
              "      <td>Atlanta</td>\n",
              "      <td>GA</td>\n",
              "      <td>Hartsfield-Jackson Atlanta International</td>\n",
              "    </tr>\n",
              "  </tbody>\n",
              "</table>\n",
              "<p>2702218 rows × 10 columns</p>\n",
              "</div>"
            ],
            "text/plain": [
              "         วันในเดือน  ...                                 ชื่อสนามบิน\n",
              "0                19  ...                  Detroit Metro Wayne County\n",
              "1                19  ...                Salt Lake City International\n",
              "2                19  ...                      Portland International\n",
              "3                19  ...             Lambert-St. Louis International\n",
              "4                19  ...  Cincinnati/Northern Kentucky International\n",
              "...             ...  ...                                         ...\n",
              "2702213          19  ...                       Orlando International\n",
              "2702214          19  ...    Hartsfield-Jackson Atlanta International\n",
              "2702215          19  ...           Albuquerque International Sunport\n",
              "2702216          19  ...    Hartsfield-Jackson Atlanta International\n",
              "2702217          19  ...    Hartsfield-Jackson Atlanta International\n",
              "\n",
              "[2702218 rows x 10 columns]"
            ]
          },
          "metadata": {},
          "execution_count": 50
        }
      ]
    },
    {
      "cell_type": "markdown",
      "metadata": {
        "id": "WSZEPJjYZqD8"
      },
      "source": [
        "**เช็คค่า Missing**"
      ]
    },
    {
      "cell_type": "code",
      "metadata": {
        "id": "Sd_bLeXMZs1I",
        "outputId": "687e7eb1-b884-4c1e-e455-4031b04e0e72",
        "colab": {
          "base_uri": "https://localhost:8080/"
        }
      },
      "source": [
        "outbound_plane.isnull().any()"
      ],
      "execution_count": 52,
      "outputs": [
        {
          "output_type": "execute_result",
          "data": {
            "text/plain": [
              "วันในเดือน           False\n",
              "วันในสัปดาห์         False\n",
              "สายการบิน            False\n",
              "รหัสสนามบินต้นทาง    False\n",
              "ความล่าช้าขาออก      False\n",
              "ความล่าช้าขาเข้า     False\n",
              "รหัสสนามบิน          False\n",
              "เมือง                False\n",
              "รัฐ                  False\n",
              "ชื่อสนามบิน          False\n",
              "dtype: bool"
            ]
          },
          "metadata": {},
          "execution_count": 52
        }
      ]
    },
    {
      "cell_type": "markdown",
      "metadata": {
        "id": "Wp2aKGLMZy7j"
      },
      "source": [
        "**ทุกคอลัมป์เป็น False แสดงว่าไม่มีค่า Missing**"
      ]
    },
    {
      "cell_type": "markdown",
      "metadata": {
        "id": "jBclplUwZz9T"
      },
      "source": [
        "### **ข้อ 0. หารัฐที่มีจำนวนเครื่องบินขาเข้ามากที่สุดและน้อยที่สุด**"
      ]
    },
    {
      "cell_type": "markdown",
      "metadata": {
        "id": "rjLRp44Jcz4b"
      },
      "source": [
        "**รัฐที่มีจำนวนเครื่องบินขาเข้ามากที่สุด**"
      ]
    },
    {
      "cell_type": "code",
      "metadata": {
        "id": "ml9RVxN0aWaN",
        "outputId": "3a1e8eab-e4cb-4e88-d056-819ff1c0e593",
        "colab": {
          "base_uri": "https://localhost:8080/",
          "height": 111
        }
      },
      "source": [
        "MaxArrive = arrive_plane.groupby('รัฐ').count().sort_values(by=['รหัสสนามบินปลายทาง'],ascending=False) #ascending=False คือเรียงจากมากไปน้อย\n",
        "MaxArrive.iloc[:1,[3]]"
      ],
      "execution_count": 65,
      "outputs": [
        {
          "output_type": "execute_result",
          "data": {
            "text/html": [
              "<div>\n",
              "<style scoped>\n",
              "    .dataframe tbody tr th:only-of-type {\n",
              "        vertical-align: middle;\n",
              "    }\n",
              "\n",
              "    .dataframe tbody tr th {\n",
              "        vertical-align: top;\n",
              "    }\n",
              "\n",
              "    .dataframe thead th {\n",
              "        text-align: right;\n",
              "    }\n",
              "</style>\n",
              "<table border=\"1\" class=\"dataframe\">\n",
              "  <thead>\n",
              "    <tr style=\"text-align: right;\">\n",
              "      <th></th>\n",
              "      <th>รหัสสนามบินปลายทาง</th>\n",
              "    </tr>\n",
              "    <tr>\n",
              "      <th>รัฐ</th>\n",
              "      <th></th>\n",
              "    </tr>\n",
              "  </thead>\n",
              "  <tbody>\n",
              "    <tr>\n",
              "      <th>CA</th>\n",
              "      <td>380429</td>\n",
              "    </tr>\n",
              "  </tbody>\n",
              "</table>\n",
              "</div>"
            ],
            "text/plain": [
              "     รหัสสนามบินปลายทาง\n",
              "รัฐ                    \n",
              "CA               380429"
            ]
          },
          "metadata": {},
          "execution_count": 65
        }
      ]
    },
    {
      "cell_type": "markdown",
      "metadata": {
        "id": "WqrU8blhkhfo"
      },
      "source": [
        "**รัฐที่มีจำนวนเครื่องบินขาเข้ามากที่สุดคือรัฐ CA มีจำนวนเครื่องบินขาเข้าทั้งหมด 380,429 ลำ**"
      ]
    },
    {
      "cell_type": "markdown",
      "metadata": {
        "id": "XJC3nNJGZ7Dc"
      },
      "source": [
        "**รัฐที่มีจำนวนเครื่องบินขาเข้าน้อยที่สุด**"
      ]
    },
    {
      "cell_type": "code",
      "metadata": {
        "id": "q77q5XTic3IW",
        "outputId": "4e810c63-3f23-4543-f21c-d7a27429ea1c",
        "colab": {
          "base_uri": "https://localhost:8080/",
          "height": 111
        }
      },
      "source": [
        "MinArrive = arrive_plane.groupby('รัฐ').count().sort_values(by=['รหัสสนามบินปลายทาง'],ascending=True) #ascending=False คือเรียงจากน้อยไปมาก\n",
        "MinArrive.iloc[:1,[3]]"
      ],
      "execution_count": 66,
      "outputs": [
        {
          "output_type": "execute_result",
          "data": {
            "text/html": [
              "<div>\n",
              "<style scoped>\n",
              "    .dataframe tbody tr th:only-of-type {\n",
              "        vertical-align: middle;\n",
              "    }\n",
              "\n",
              "    .dataframe tbody tr th {\n",
              "        vertical-align: top;\n",
              "    }\n",
              "\n",
              "    .dataframe thead th {\n",
              "        text-align: right;\n",
              "    }\n",
              "</style>\n",
              "<table border=\"1\" class=\"dataframe\">\n",
              "  <thead>\n",
              "    <tr style=\"text-align: right;\">\n",
              "      <th></th>\n",
              "      <th>รหัสสนามบินปลายทาง</th>\n",
              "    </tr>\n",
              "    <tr>\n",
              "      <th>รัฐ</th>\n",
              "      <th></th>\n",
              "    </tr>\n",
              "  </thead>\n",
              "  <tbody>\n",
              "    <tr>\n",
              "      <th>AK</th>\n",
              "      <td>7711</td>\n",
              "    </tr>\n",
              "  </tbody>\n",
              "</table>\n",
              "</div>"
            ],
            "text/plain": [
              "     รหัสสนามบินปลายทาง\n",
              "รัฐ                    \n",
              "AK                 7711"
            ]
          },
          "metadata": {},
          "execution_count": 66
        }
      ]
    },
    {
      "cell_type": "markdown",
      "metadata": {
        "id": "k2DuvpMDkxRW"
      },
      "source": [
        "**รัฐที่มีจำนวนเครื่องบินขาเข้าน้อยที่สุดคือรัฐ AK มีจำนวนเครื่องบินขาเข้าทั้งหมด 7,711 ลำ**"
      ]
    },
    {
      "cell_type": "markdown",
      "metadata": {
        "id": "eYGH-1KsdY9X"
      },
      "source": [
        "### **ข้อ 5. วันธรรมดาหรือวันเสาร์-อาทิตย์มีเครื่องบินขาเข้ามากกว่ากัน (วันจันทร์ = 1, วันอังคาร = 2, วันพุธ = 3,...)**"
      ]
    },
    {
      "cell_type": "code",
      "metadata": {
        "id": "HpHhqgWBdcPF",
        "outputId": "a0e5a722-63b9-47f5-8b3c-1018aeb0aea8",
        "colab": {
          "base_uri": "https://localhost:8080/",
          "height": 297
        }
      },
      "source": [
        "MaxDay = arrive_plane.groupby('วันในสัปดาห์').count().sort_values(by=['รหัสสนามบินปลายทาง'],ascending=False) #ascending=False คือเรียงจากมากไปน้อย\n",
        "MaxDay.iloc[:,[2]]"
      ],
      "execution_count": 70,
      "outputs": [
        {
          "output_type": "execute_result",
          "data": {
            "text/html": [
              "<div>\n",
              "<style scoped>\n",
              "    .dataframe tbody tr th:only-of-type {\n",
              "        vertical-align: middle;\n",
              "    }\n",
              "\n",
              "    .dataframe tbody tr th {\n",
              "        vertical-align: top;\n",
              "    }\n",
              "\n",
              "    .dataframe thead th {\n",
              "        text-align: right;\n",
              "    }\n",
              "</style>\n",
              "<table border=\"1\" class=\"dataframe\">\n",
              "  <thead>\n",
              "    <tr style=\"text-align: right;\">\n",
              "      <th></th>\n",
              "      <th>รหัสสนามบินปลายทาง</th>\n",
              "    </tr>\n",
              "    <tr>\n",
              "      <th>วันในสัปดาห์</th>\n",
              "      <th></th>\n",
              "    </tr>\n",
              "  </thead>\n",
              "  <tbody>\n",
              "    <tr>\n",
              "      <th>1</th>\n",
              "      <td>407837</td>\n",
              "    </tr>\n",
              "    <tr>\n",
              "      <th>4</th>\n",
              "      <td>406563</td>\n",
              "    </tr>\n",
              "    <tr>\n",
              "      <th>3</th>\n",
              "      <td>403072</td>\n",
              "    </tr>\n",
              "    <tr>\n",
              "      <th>2</th>\n",
              "      <td>397594</td>\n",
              "    </tr>\n",
              "    <tr>\n",
              "      <th>5</th>\n",
              "      <td>396387</td>\n",
              "    </tr>\n",
              "    <tr>\n",
              "      <th>7</th>\n",
              "      <td>372228</td>\n",
              "    </tr>\n",
              "    <tr>\n",
              "      <th>6</th>\n",
              "      <td>318537</td>\n",
              "    </tr>\n",
              "  </tbody>\n",
              "</table>\n",
              "</div>"
            ],
            "text/plain": [
              "              รหัสสนามบินปลายทาง\n",
              "วันในสัปดาห์                    \n",
              "1                         407837\n",
              "4                         406563\n",
              "3                         403072\n",
              "2                         397594\n",
              "5                         396387\n",
              "7                         372228\n",
              "6                         318537"
            ]
          },
          "metadata": {},
          "execution_count": 70
        }
      ]
    },
    {
      "cell_type": "markdown",
      "metadata": {
        "id": "Af_rCux7keem"
      },
      "source": [
        "**จากตาราง MaxDay จะพบว่า**\n",
        "\n",
        "**วันในสัปดาห์ (1) คือ วันจันทร์ มีเครื่องบินขาเข้าทั้งหมด 407,837 ลำ**\n",
        "\n",
        "**วันในสัปดาห์ (4) คือ วันพฤหัสบดี มีเครื่องบินขาเข้าทั้งหมด 406,563 ลำ**\n",
        "\n",
        "**วันในสัปดาห์ (3) คือ วันพุธ มีเครื่องบินขาเข้าทั้งหมด 403,072 ลำ**\n",
        "\n",
        "**วันในสัปดาห์ (2) คือ วันอังคาร มีเครื่องบินขาเข้าทั้งหมด 397,594 ลำ**\n",
        "\n",
        "**วันในสัปดาห์ (5) คือ วันศุกร์ มีเครื่องบินขาเข้าทั้งหมด 396,387 ลำ**\n",
        "\n",
        "**วันในสัปดาห์ (7) คือ วันอาทิตย์ มีเครื่องบินขาเข้าทั้งหมด 372,228 ลำ**\n",
        "\n",
        "**วันในสัปดาห์ (6) คือ วันเสาร์ มีเครื่องบินขาเข้าทั้งหมด 318,537 ลำ**"
      ]
    },
    {
      "cell_type": "markdown",
      "metadata": {
        "id": "HFIdLafYl85o"
      },
      "source": [
        ""
      ]
    },
    {
      "cell_type": "markdown",
      "metadata": {
        "id": "oJ22FVJ_g7o3"
      },
      "source": [
        "### **(ข้อที่คิดเอง) สายการบินไหนไปที่เมือง Detroit มากที่สุดและน้อยที่สุด**"
      ]
    },
    {
      "cell_type": "code",
      "metadata": {
        "id": "hUpWlRwJhIkX"
      },
      "source": [
        ""
      ],
      "execution_count": null,
      "outputs": []
    }
  ]
}