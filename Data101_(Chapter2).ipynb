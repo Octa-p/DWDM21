{
  "nbformat": 4,
  "nbformat_minor": 0,
  "metadata": {
    "colab": {
      "name": "Data101 (Chapter2).ipynb",
      "provenance": [],
      "include_colab_link": true
    },
    "kernelspec": {
      "name": "python3",
      "display_name": "Python 3"
    },
    "language_info": {
      "name": "python"
    }
  },
  "cells": [
    {
      "cell_type": "markdown",
      "metadata": {
        "id": "view-in-github",
        "colab_type": "text"
      },
      "source": [
        "<a href=\"https://colab.research.google.com/github/Octa-p/DWDM21/blob/main/Data101_(Chapter2).ipynb\" target=\"_parent\"><img src=\"https://colab.research.google.com/assets/colab-badge.svg\" alt=\"Open In Colab\"/></a>"
      ]
    },
    {
      "cell_type": "markdown",
      "metadata": {
        "id": "ygj_tT2Dz1bV"
      },
      "source": [
        "ข้อความที่อยู่ใน Textbox จะเป็นภาษา Markdown"
      ]
    },
    {
      "cell_type": "markdown",
      "metadata": {
        "id": "KNgkZMibtlT3"
      },
      "source": [
        "ข้อดีหนึ่งชอง Python คือมี package สำหรับทำงานต่างๆมากมาย \n",
        "\n",
        "ซึ่ง pandas เป็น package สำหรับการทำงานกับข้อมูลที่มีอยู่ในรูปแบบตาราง \n",
        "\n",
        "โดย pandas จะเรียกตารางนั้นว่า dataframe\n"
      ]
    },
    {
      "cell_type": "code",
      "metadata": {
        "id": "LUHdEHMZr2ed"
      },
      "source": [
        "import pandas # วิธีเรียกใช้ package คือ import ตามด้วยชื่อ package"
      ],
      "execution_count": null,
      "outputs": []
    },
    {
      "cell_type": "code",
      "metadata": {
        "id": "LuwA8TOntAQD"
      },
      "source": [
        "import pandas as pd # เหมือนกันกับข้างบนแต่ว่า ตั้งชื่อให้ package ที่โหลดมาใหม่ว่า pd"
      ],
      "execution_count": null,
      "outputs": []
    },
    {
      "cell_type": "markdown",
      "metadata": {
        "id": "ixFR5L1Vutb8"
      },
      "source": [
        "ไฟล์ .csv (csv = comma separated value) เป็นไฟล์หลักที่เราจะได้ใช้กันในวิชานี้"
      ]
    },
    {
      "cell_type": "code",
      "metadata": {
        "id": "8Fkh6W-wub-n"
      },
      "source": [
        "data_df = pd.read_csv( 'data.csv' )"
      ],
      "execution_count": null,
      "outputs": []
    },
    {
      "cell_type": "code",
      "metadata": {
        "colab": {
          "base_uri": "https://localhost:8080/",
          "height": 142
        },
        "id": "VLIlxJmgxWlz",
        "outputId": "69a5d42f-fa28-4431-fb0c-ed02d184cd3a"
      },
      "source": [
        "data_df"
      ],
      "execution_count": null,
      "outputs": [
        {
          "output_type": "execute_result",
          "data": {
            "text/html": [
              "<div>\n",
              "<style scoped>\n",
              "    .dataframe tbody tr th:only-of-type {\n",
              "        vertical-align: middle;\n",
              "    }\n",
              "\n",
              "    .dataframe tbody tr th {\n",
              "        vertical-align: top;\n",
              "    }\n",
              "\n",
              "    .dataframe thead th {\n",
              "        text-align: right;\n",
              "    }\n",
              "</style>\n",
              "<table border=\"1\" class=\"dataframe\">\n",
              "  <thead>\n",
              "    <tr style=\"text-align: right;\">\n",
              "      <th></th>\n",
              "      <th>name</th>\n",
              "      <th>age</th>\n",
              "      <th>city</th>\n",
              "    </tr>\n",
              "  </thead>\n",
              "  <tbody>\n",
              "    <tr>\n",
              "      <th>0</th>\n",
              "      <td>Tom</td>\n",
              "      <td>27</td>\n",
              "      <td>Khon Kaen</td>\n",
              "    </tr>\n",
              "    <tr>\n",
              "      <th>1</th>\n",
              "      <td>Paul</td>\n",
              "      <td>15</td>\n",
              "      <td>Bangkok</td>\n",
              "    </tr>\n",
              "    <tr>\n",
              "      <th>2</th>\n",
              "      <td>Sarah</td>\n",
              "      <td>49</td>\n",
              "      <td>London</td>\n",
              "    </tr>\n",
              "  </tbody>\n",
              "</table>\n",
              "</div>"
            ],
            "text/plain": [
              "    name  age       city\n",
              "0    Tom   27  Khon Kaen\n",
              "1   Paul   15    Bangkok\n",
              "2  Sarah   49     London"
            ]
          },
          "metadata": {
            "tags": []
          },
          "execution_count": 6
        }
      ]
    },
    {
      "cell_type": "code",
      "metadata": {
        "colab": {
          "base_uri": "https://localhost:8080/",
          "height": 142
        },
        "id": "yNJMlM3rxXuU",
        "outputId": "c8ada552-7265-4245-9f0d-323b59533eff"
      },
      "source": [
        "data_df2 = pandas.read_csv( 'data.csv' )\n",
        "data_df2"
      ],
      "execution_count": null,
      "outputs": [
        {
          "output_type": "execute_result",
          "data": {
            "text/html": [
              "<div>\n",
              "<style scoped>\n",
              "    .dataframe tbody tr th:only-of-type {\n",
              "        vertical-align: middle;\n",
              "    }\n",
              "\n",
              "    .dataframe tbody tr th {\n",
              "        vertical-align: top;\n",
              "    }\n",
              "\n",
              "    .dataframe thead th {\n",
              "        text-align: right;\n",
              "    }\n",
              "</style>\n",
              "<table border=\"1\" class=\"dataframe\">\n",
              "  <thead>\n",
              "    <tr style=\"text-align: right;\">\n",
              "      <th></th>\n",
              "      <th>name</th>\n",
              "      <th>age</th>\n",
              "      <th>city</th>\n",
              "    </tr>\n",
              "  </thead>\n",
              "  <tbody>\n",
              "    <tr>\n",
              "      <th>0</th>\n",
              "      <td>Tom</td>\n",
              "      <td>27</td>\n",
              "      <td>Khon Kaen</td>\n",
              "    </tr>\n",
              "    <tr>\n",
              "      <th>1</th>\n",
              "      <td>Paul</td>\n",
              "      <td>15</td>\n",
              "      <td>Bangkok</td>\n",
              "    </tr>\n",
              "    <tr>\n",
              "      <th>2</th>\n",
              "      <td>Sarah</td>\n",
              "      <td>49</td>\n",
              "      <td>London</td>\n",
              "    </tr>\n",
              "  </tbody>\n",
              "</table>\n",
              "</div>"
            ],
            "text/plain": [
              "    name  age       city\n",
              "0    Tom   27  Khon Kaen\n",
              "1   Paul   15    Bangkok\n",
              "2  Sarah   49     London"
            ]
          },
          "metadata": {
            "tags": []
          },
          "execution_count": 7
        }
      ]
    },
    {
      "cell_type": "markdown",
      "metadata": {
        "id": "0tg0oyzBzqJb"
      },
      "source": [
        "# Basic Python\n",
        "## Variables"
      ]
    },
    {
      "cell_type": "markdown",
      "metadata": {
        "id": "urlaQ8mu1lu0"
      },
      "source": [
        "ข้อกำหนดในการตั้งชื่อตัวแปร\n",
        "\n",
        "\n",
        "1.   ชื่อห้ามมีเว้นวรรค\n",
        "2.   (พยายาม)ใช้ภาษาอังกฤษ\n",
        "3.   ตัวเล็กตัวใหญ่แตกต่างกัน (case sensitive)\n",
        "4.   ห้ามใช้ตัวเลขเป็นตัวหน้า\n",
        "\n",
        "\n"
      ]
    },
    {
      "cell_type": "code",
      "metadata": {
        "id": "oJl8aqe0yeBy"
      },
      "source": [
        "variable_a = 12\n",
        "variable_b = 'abcde' # ' เรียกว่า quote\n",
        "variable_c = variable_a "
      ],
      "execution_count": null,
      "outputs": []
    },
    {
      "cell_type": "code",
      "metadata": {
        "colab": {
          "base_uri": "https://localhost:8080/"
        },
        "id": "pf0EpPMO1Kxq",
        "outputId": "9fdbb50a-c833-41a0-fff7-608562877a61"
      },
      "source": [
        "variable_a"
      ],
      "execution_count": null,
      "outputs": [
        {
          "output_type": "execute_result",
          "data": {
            "text/plain": [
              "12"
            ]
          },
          "metadata": {
            "tags": []
          },
          "execution_count": 9
        }
      ]
    },
    {
      "cell_type": "code",
      "metadata": {
        "colab": {
          "base_uri": "https://localhost:8080/",
          "height": 35
        },
        "id": "lJn5YzlX1MYH",
        "outputId": "102e8216-2891-43ae-d9d9-bf830cc0d18a"
      },
      "source": [
        "variable_b"
      ],
      "execution_count": null,
      "outputs": [
        {
          "output_type": "execute_result",
          "data": {
            "application/vnd.google.colaboratory.intrinsic+json": {
              "type": "string"
            },
            "text/plain": [
              "'abcde'"
            ]
          },
          "metadata": {
            "tags": []
          },
          "execution_count": 10
        }
      ]
    },
    {
      "cell_type": "code",
      "metadata": {
        "colab": {
          "base_uri": "https://localhost:8080/"
        },
        "id": "FqM9FCv01NUv",
        "outputId": "ef3730c5-606c-4c48-e56b-055a6916ce20"
      },
      "source": [
        "variable_c"
      ],
      "execution_count": null,
      "outputs": [
        {
          "output_type": "execute_result",
          "data": {
            "text/plain": [
              "12"
            ]
          },
          "metadata": {
            "tags": []
          },
          "execution_count": 11
        }
      ]
    },
    {
      "cell_type": "code",
      "metadata": {
        "colab": {
          "base_uri": "https://localhost:8080/",
          "height": 129
        },
        "id": "_En95jQv1OUB",
        "outputId": "f76d4c57-4295-4e15-9df7-afbb3a233ee3"
      },
      "source": [
        "#ชื่อห้ามมีเว้นวรรค\n",
        "variable a = 6 "
      ],
      "execution_count": null,
      "outputs": [
        {
          "output_type": "error",
          "ename": "SyntaxError",
          "evalue": "ignored",
          "traceback": [
            "\u001b[0;36m  File \u001b[0;32m\"<ipython-input-12-fd7265a87fe2>\"\u001b[0;36m, line \u001b[0;32m1\u001b[0m\n\u001b[0;31m    variable a = 6\u001b[0m\n\u001b[0m             ^\u001b[0m\n\u001b[0;31mSyntaxError\u001b[0m\u001b[0;31m:\u001b[0m invalid syntax\n"
          ]
        }
      ]
    },
    {
      "cell_type": "code",
      "metadata": {
        "colab": {
          "base_uri": "https://localhost:8080/"
        },
        "id": "9h8aes_x2Tqf",
        "outputId": "7c02505c-3e51-4ba7-b26c-5fd9567e92e2"
      },
      "source": [
        "#(พยายาม)ใช้ภาษาอังกฤษ\n",
        "#colab ใช้ภาษาไทยเป็นชื่อตัวแปรได้ แต่ไม่ควรใช้\n",
        "ตัวแปร = 3 \n",
        "ตัวแปร"
      ],
      "execution_count": null,
      "outputs": [
        {
          "output_type": "execute_result",
          "data": {
            "text/plain": [
              "3"
            ]
          },
          "metadata": {
            "tags": []
          },
          "execution_count": 13
        }
      ]
    },
    {
      "cell_type": "code",
      "metadata": {
        "colab": {
          "base_uri": "https://localhost:8080/"
        },
        "id": "T5qRitU820ft",
        "outputId": "d09aba0b-3287-482c-a8fc-c076f6257095"
      },
      "source": [
        "#ตัวเล็กตัวใหญ่แตกต่างกัน (case sensitive)\n",
        "v_a = 1\n",
        "V_a = 2\n",
        "print(v_a)\n",
        "print(V_a)"
      ],
      "execution_count": null,
      "outputs": [
        {
          "output_type": "stream",
          "text": [
            "1\n",
            "2\n"
          ],
          "name": "stdout"
        }
      ]
    },
    {
      "cell_type": "code",
      "metadata": {
        "colab": {
          "base_uri": "https://localhost:8080/"
        },
        "id": "rYp-kD-33Sjf",
        "outputId": "d96dc699-c216-46fe-9d28-135eb3700480"
      },
      "source": [
        "#ตัวเล็กตัวใหญ่แตกต่างกัน (case sensitive)\n",
        "v_a = 1\n",
        "v_a = 2\n",
        "print(v_a)\n",
        "print(v_a)"
      ],
      "execution_count": null,
      "outputs": [
        {
          "output_type": "stream",
          "text": [
            "2\n",
            "2\n"
          ],
          "name": "stdout"
        }
      ]
    },
    {
      "cell_type": "code",
      "metadata": {
        "colab": {
          "base_uri": "https://localhost:8080/",
          "height": 129
        },
        "id": "rZLqu1Pt3k2A",
        "outputId": "ee26e094-c185-4f4e-d80f-69ce10d3f8d6"
      },
      "source": [
        "#ห้ามใช้ตัวเลขเป็นตัวหน้า\n",
        "2 = 1"
      ],
      "execution_count": null,
      "outputs": [
        {
          "output_type": "error",
          "ename": "SyntaxError",
          "evalue": "ignored",
          "traceback": [
            "\u001b[0;36m  File \u001b[0;32m\"<ipython-input-16-2d4ad990ef8c>\"\u001b[0;36m, line \u001b[0;32m2\u001b[0m\n\u001b[0;31m    2 = 1\u001b[0m\n\u001b[0m         ^\u001b[0m\n\u001b[0;31mSyntaxError\u001b[0m\u001b[0;31m:\u001b[0m can't assign to literal\n"
          ]
        }
      ]
    },
    {
      "cell_type": "code",
      "metadata": {
        "colab": {
          "base_uri": "https://localhost:8080/",
          "height": 129
        },
        "id": "NO0Nr_oR3ubJ",
        "outputId": "6657ccee-9d4e-4dec-ee12-c358664ad0cd"
      },
      "source": [
        "#ห้ามใช้ตัวเลขเป็นตัวหน้า\n",
        "2ab = 1"
      ],
      "execution_count": null,
      "outputs": [
        {
          "output_type": "error",
          "ename": "SyntaxError",
          "evalue": "ignored",
          "traceback": [
            "\u001b[0;36m  File \u001b[0;32m\"<ipython-input-17-b408d3f2d8a4>\"\u001b[0;36m, line \u001b[0;32m2\u001b[0m\n\u001b[0;31m    2ab = 1\u001b[0m\n\u001b[0m      ^\u001b[0m\n\u001b[0;31mSyntaxError\u001b[0m\u001b[0;31m:\u001b[0m invalid syntax\n"
          ]
        }
      ]
    },
    {
      "cell_type": "code",
      "metadata": {
        "id": "KJB_WPHf3xFh"
      },
      "source": [
        "#ห้ามใช้ตัวเลขเป็นตัวหน้า\n",
        "variable1 = 1"
      ],
      "execution_count": null,
      "outputs": []
    },
    {
      "cell_type": "code",
      "metadata": {
        "colab": {
          "base_uri": "https://localhost:8080/"
        },
        "id": "4BXEI2IL31DX",
        "outputId": "c3bc45ba-bd96-49ba-f9bf-e8fdd8ab6dad"
      },
      "source": [
        "print(variable1)"
      ],
      "execution_count": null,
      "outputs": [
        {
          "output_type": "stream",
          "text": [
            "1\n"
          ],
          "name": "stdout"
        }
      ]
    },
    {
      "cell_type": "code",
      "metadata": {
        "id": "Woi4mdow33W9"
      },
      "source": [
        "variable_a = 12\n",
        "variable_b = 'abcde' # ' เรียกว่า quote\n",
        "variable_c = variable_a \n",
        "variable_d = -41.2\n",
        "variable_4 = \"KKU\" # \" เรียกว่า double quote"
      ],
      "execution_count": null,
      "outputs": []
    },
    {
      "cell_type": "code",
      "metadata": {
        "colab": {
          "base_uri": "https://localhost:8080/"
        },
        "id": "NbMgxoNy4blQ",
        "outputId": "39eda666-a9b4-4415-895f-24e751f35359"
      },
      "source": [
        "variable_x = variable_c + variable_d\n",
        "print(variable_x)"
      ],
      "execution_count": null,
      "outputs": [
        {
          "output_type": "stream",
          "text": [
            "-29.200000000000003\n"
          ],
          "name": "stdout"
        }
      ]
    },
    {
      "cell_type": "code",
      "metadata": {
        "colab": {
          "base_uri": "https://localhost:8080/",
          "height": 163
        },
        "id": "6O3leJaZ6RtO",
        "outputId": "33310c3c-ae1a-47d5-994e-a61335ed4d8e"
      },
      "source": [
        "variable_a + variable_b"
      ],
      "execution_count": null,
      "outputs": [
        {
          "output_type": "error",
          "ename": "TypeError",
          "evalue": "ignored",
          "traceback": [
            "\u001b[0;31m---------------------------------------------------------------------------\u001b[0m",
            "\u001b[0;31mTypeError\u001b[0m                                 Traceback (most recent call last)",
            "\u001b[0;32m<ipython-input-24-ca279e5cd267>\u001b[0m in \u001b[0;36m<module>\u001b[0;34m()\u001b[0m\n\u001b[0;32m----> 1\u001b[0;31m \u001b[0mvariable_a\u001b[0m \u001b[0;34m+\u001b[0m \u001b[0mvariable_b\u001b[0m\u001b[0;34m\u001b[0m\u001b[0;34m\u001b[0m\u001b[0m\n\u001b[0m",
            "\u001b[0;31mTypeError\u001b[0m: unsupported operand type(s) for +: 'int' and 'str'"
          ]
        }
      ]
    },
    {
      "cell_type": "code",
      "metadata": {
        "colab": {
          "base_uri": "https://localhost:8080/"
        },
        "id": "ZXedBm6Y6VOT",
        "outputId": "7ab52012-13af-4161-c221-af86b01c51b1"
      },
      "source": [
        "print(variable_b + variable_4)"
      ],
      "execution_count": null,
      "outputs": [
        {
          "output_type": "stream",
          "text": [
            "abcdeKKU\n"
          ],
          "name": "stdout"
        }
      ]
    },
    {
      "cell_type": "markdown",
      "metadata": {
        "id": "P2NWFvpu7HSG"
      },
      "source": [
        "## Casting int() float() str()"
      ]
    },
    {
      "cell_type": "code",
      "metadata": {
        "colab": {
          "base_uri": "https://localhost:8080/"
        },
        "id": "akKCrk7D6f_o",
        "outputId": "d6a6e766-9012-4abf-d859-007434072f7b"
      },
      "source": [
        "print(variable_x)\n",
        "print(int(variable_x))"
      ],
      "execution_count": null,
      "outputs": [
        {
          "output_type": "stream",
          "text": [
            "-29.200000000000003\n",
            "-29\n"
          ],
          "name": "stdout"
        }
      ]
    },
    {
      "cell_type": "code",
      "metadata": {
        "colab": {
          "base_uri": "https://localhost:8080/"
        },
        "id": "037kFLDH7ZE1",
        "outputId": "712df4e5-ae73-4e4a-e144-c38219b9f424"
      },
      "source": [
        "V_X = str(variable_x)\n",
        "print(V_X)"
      ],
      "execution_count": null,
      "outputs": [
        {
          "output_type": "stream",
          "text": [
            "-29.200000000000003\n"
          ],
          "name": "stdout"
        }
      ]
    },
    {
      "cell_type": "code",
      "metadata": {
        "colab": {
          "base_uri": "https://localhost:8080/",
          "height": 163
        },
        "id": "G5-tfxn_7pi_",
        "outputId": "d52b836f-74a8-4879-edd7-cca938164642"
      },
      "source": [
        "V_X + variable_a # เพราะเราทำให้ V_X เป็น string เลยทำให้บวกกับตัวเลขไม่ได้"
      ],
      "execution_count": null,
      "outputs": [
        {
          "output_type": "error",
          "ename": "TypeError",
          "evalue": "ignored",
          "traceback": [
            "\u001b[0;31m---------------------------------------------------------------------------\u001b[0m",
            "\u001b[0;31mTypeError\u001b[0m                                 Traceback (most recent call last)",
            "\u001b[0;32m<ipython-input-29-d83c0918f5c6>\u001b[0m in \u001b[0;36m<module>\u001b[0;34m()\u001b[0m\n\u001b[0;32m----> 1\u001b[0;31m \u001b[0mV_X\u001b[0m \u001b[0;34m+\u001b[0m \u001b[0mvariable_a\u001b[0m\u001b[0;34m\u001b[0m\u001b[0;34m\u001b[0m\u001b[0m\n\u001b[0m",
            "\u001b[0;31mTypeError\u001b[0m: can only concatenate str (not \"int\") to str"
          ]
        }
      ]
    },
    {
      "cell_type": "code",
      "metadata": {
        "colab": {
          "base_uri": "https://localhost:8080/",
          "height": 163
        },
        "id": "iFW9y2Bv74P_",
        "outputId": "908a6a2c-8b3d-4848-f55f-06d632428792"
      },
      "source": [
        "variable_a + V_X # ก็เหมือนกัน แต่ว่าตัวโปรแกรมจะอ่านค่าตัวข้างหน้าก่อนว่า อันนี้เอาไปบวกกับอะไร"
      ],
      "execution_count": null,
      "outputs": [
        {
          "output_type": "error",
          "ename": "TypeError",
          "evalue": "ignored",
          "traceback": [
            "\u001b[0;31m---------------------------------------------------------------------------\u001b[0m",
            "\u001b[0;31mTypeError\u001b[0m                                 Traceback (most recent call last)",
            "\u001b[0;32m<ipython-input-30-9c7fa6bc8848>\u001b[0m in \u001b[0;36m<module>\u001b[0;34m()\u001b[0m\n\u001b[0;32m----> 1\u001b[0;31m \u001b[0mvariable_a\u001b[0m \u001b[0;34m+\u001b[0m \u001b[0mV_X\u001b[0m\u001b[0;34m\u001b[0m\u001b[0;34m\u001b[0m\u001b[0m\n\u001b[0m",
            "\u001b[0;31mTypeError\u001b[0m: unsupported operand type(s) for +: 'int' and 'str'"
          ]
        }
      ]
    },
    {
      "cell_type": "code",
      "metadata": {
        "colab": {
          "base_uri": "https://localhost:8080/",
          "height": 35
        },
        "id": "AnW9k4yV8NWc",
        "outputId": "50a0adf4-fdc1-4293-b890-3af0d7826fe4"
      },
      "source": [
        "V_X"
      ],
      "execution_count": null,
      "outputs": [
        {
          "output_type": "execute_result",
          "data": {
            "application/vnd.google.colaboratory.intrinsic+json": {
              "type": "string"
            },
            "text/plain": [
              "'-29.200000000000003'"
            ]
          },
          "metadata": {
            "tags": []
          },
          "execution_count": 31
        }
      ]
    },
    {
      "cell_type": "code",
      "metadata": {
        "colab": {
          "base_uri": "https://localhost:8080/"
        },
        "id": "0J_jXwv08g6-",
        "outputId": "087ac5e2-9922-45be-9311-62c10ea4f5a2"
      },
      "source": [
        "float(V_X)"
      ],
      "execution_count": null,
      "outputs": [
        {
          "output_type": "execute_result",
          "data": {
            "text/plain": [
              "-29.200000000000003"
            ]
          },
          "metadata": {
            "tags": []
          },
          "execution_count": 32
        }
      ]
    },
    {
      "cell_type": "markdown",
      "metadata": {
        "id": "Op0-ozCc89qv"
      },
      "source": [
        "## Data Structure\n",
        "### list()"
      ]
    },
    {
      "cell_type": "code",
      "metadata": {
        "id": "Gnyl7vVM8p1W"
      },
      "source": [
        "list_a = [1,2,0.2,'abs'] # [] square brackets\n",
        "list_b = [2,'xyz',list_a,[1,2,0.0]]"
      ],
      "execution_count": null,
      "outputs": []
    },
    {
      "cell_type": "code",
      "metadata": {
        "colab": {
          "base_uri": "https://localhost:8080/"
        },
        "id": "lCSOBVfR92GV",
        "outputId": "059d1e39-707f-4d0c-e20d-7c9ff8e96bc9"
      },
      "source": [
        "list_a"
      ],
      "execution_count": null,
      "outputs": [
        {
          "output_type": "execute_result",
          "data": {
            "text/plain": [
              "[1, 2, 0.2, 'abs']"
            ]
          },
          "metadata": {
            "tags": []
          },
          "execution_count": 34
        }
      ]
    },
    {
      "cell_type": "code",
      "metadata": {
        "colab": {
          "base_uri": "https://localhost:8080/"
        },
        "id": "bP1lH9OA93_0",
        "outputId": "666c631f-7ec7-4e45-b319-5c0e07aaa0be"
      },
      "source": [
        "list_b"
      ],
      "execution_count": null,
      "outputs": [
        {
          "output_type": "execute_result",
          "data": {
            "text/plain": [
              "[2, 'xyz', [1, 2, 0.2, 'abs'], [1, 2, 0.0]]"
            ]
          },
          "metadata": {
            "tags": []
          },
          "execution_count": 35
        }
      ]
    },
    {
      "cell_type": "code",
      "metadata": {
        "colab": {
          "base_uri": "https://localhost:8080/"
        },
        "id": "uA1gCYyX-AUE",
        "outputId": "34afb1e0-97c6-4e69-8779-8a63d4b5fe00"
      },
      "source": [
        "len(list_b)"
      ],
      "execution_count": null,
      "outputs": [
        {
          "output_type": "execute_result",
          "data": {
            "text/plain": [
              "4"
            ]
          },
          "metadata": {
            "tags": []
          },
          "execution_count": 37
        }
      ]
    },
    {
      "cell_type": "code",
      "metadata": {
        "colab": {
          "base_uri": "https://localhost:8080/"
        },
        "id": "B1faVMFR-ML9",
        "outputId": "2471d2e6-613c-4115-ae5b-d46320556b58"
      },
      "source": [
        "list_b[3]"
      ],
      "execution_count": null,
      "outputs": [
        {
          "output_type": "execute_result",
          "data": {
            "text/plain": [
              "[1, 2, 0.0]"
            ]
          },
          "metadata": {
            "tags": []
          },
          "execution_count": 38
        }
      ]
    },
    {
      "cell_type": "code",
      "metadata": {
        "colab": {
          "base_uri": "https://localhost:8080/"
        },
        "id": "E2MwjkQu-gUk",
        "outputId": "f0571bfd-7b56-4acd-b381-91cc3f2c8171"
      },
      "source": [
        "list_b[3][1]"
      ],
      "execution_count": null,
      "outputs": [
        {
          "output_type": "execute_result",
          "data": {
            "text/plain": [
              "2"
            ]
          },
          "metadata": {
            "tags": []
          },
          "execution_count": 39
        }
      ]
    },
    {
      "cell_type": "markdown",
      "metadata": {
        "id": "Jf2MzK85-3i1"
      },
      "source": [
        "string คือ list ของ ตัวหนังสือ"
      ]
    },
    {
      "cell_type": "code",
      "metadata": {
        "id": "nHkbdFIs-j_K"
      },
      "source": [
        "a = 'Stat KKU'"
      ],
      "execution_count": null,
      "outputs": []
    },
    {
      "cell_type": "code",
      "metadata": {
        "colab": {
          "base_uri": "https://localhost:8080/",
          "height": 35
        },
        "id": "5tZNi9fz_CuG",
        "outputId": "1f887406-8a90-4634-808c-8cd1f4dbabde"
      },
      "source": [
        "a[4] # ตัวที่ 4 เป็นช่องว่าง"
      ],
      "execution_count": null,
      "outputs": [
        {
          "output_type": "execute_result",
          "data": {
            "application/vnd.google.colaboratory.intrinsic+json": {
              "type": "string"
            },
            "text/plain": [
              "' '"
            ]
          },
          "metadata": {
            "tags": []
          },
          "execution_count": 41
        }
      ]
    },
    {
      "cell_type": "markdown",
      "metadata": {
        "id": "z0GCe0lZ_gCq"
      },
      "source": [
        "## วิธ๊สร้าง list ว่าง"
      ]
    },
    {
      "cell_type": "code",
      "metadata": {
        "id": "Hm3MzkiS_Ghw"
      },
      "source": [
        "list_c = list() #แบบที่ 1\n",
        "list_d = [] #แบบที่ 2"
      ],
      "execution_count": null,
      "outputs": []
    },
    {
      "cell_type": "code",
      "metadata": {
        "colab": {
          "base_uri": "https://localhost:8080/"
        },
        "id": "Af9GyB55_21_",
        "outputId": "719f7c1f-d029-466e-ba8c-e4204ba548a2"
      },
      "source": [
        "list_c"
      ],
      "execution_count": null,
      "outputs": [
        {
          "output_type": "execute_result",
          "data": {
            "text/plain": [
              "[]"
            ]
          },
          "metadata": {
            "tags": []
          },
          "execution_count": 43
        }
      ]
    },
    {
      "cell_type": "code",
      "metadata": {
        "colab": {
          "base_uri": "https://localhost:8080/"
        },
        "id": "aXzFcZKqABV_",
        "outputId": "6371da19-1e9e-43eb-bc11-63891533fddf"
      },
      "source": [
        "list_d"
      ],
      "execution_count": null,
      "outputs": [
        {
          "output_type": "execute_result",
          "data": {
            "text/plain": [
              "[]"
            ]
          },
          "metadata": {
            "tags": []
          },
          "execution_count": 44
        }
      ]
    },
    {
      "cell_type": "markdown",
      "metadata": {
        "id": "snAsV8tYASLI"
      },
      "source": [
        "เติมค่าลงไปใน list (.append()) "
      ]
    },
    {
      "cell_type": "code",
      "metadata": {
        "id": "NizAMIlTAlQN"
      },
      "source": [
        "list_d.append('a')"
      ],
      "execution_count": null,
      "outputs": []
    },
    {
      "cell_type": "code",
      "metadata": {
        "colab": {
          "base_uri": "https://localhost:8080/"
        },
        "id": "vReXWbscApt8",
        "outputId": "db4f9f88-98d8-4db5-f9b2-d1540275871a"
      },
      "source": [
        "list_d"
      ],
      "execution_count": null,
      "outputs": [
        {
          "output_type": "execute_result",
          "data": {
            "text/plain": [
              "['a']"
            ]
          },
          "metadata": {
            "tags": []
          },
          "execution_count": 46
        }
      ]
    },
    {
      "cell_type": "code",
      "metadata": {
        "id": "V6YfMTnQArCG"
      },
      "source": [
        "list_d.append(56)"
      ],
      "execution_count": null,
      "outputs": []
    },
    {
      "cell_type": "code",
      "metadata": {
        "colab": {
          "base_uri": "https://localhost:8080/"
        },
        "id": "M6lr9u7kA1bv",
        "outputId": "4c3e4fe5-26db-45e2-ae7a-b9a601d940ab"
      },
      "source": [
        "list_d"
      ],
      "execution_count": null,
      "outputs": [
        {
          "output_type": "execute_result",
          "data": {
            "text/plain": [
              "['a', 56]"
            ]
          },
          "metadata": {
            "tags": []
          },
          "execution_count": 48
        }
      ]
    },
    {
      "cell_type": "markdown",
      "metadata": {
        "id": "CRnAwLI2BDGF"
      },
      "source": [
        "การชี้ค่าใน list (indexing)\n",
        "\n",
        "\n",
        "1.   ใช้ลำดับในการชี้\n",
        "2.   ลำดับเริ่มจาก  0 \n",
        "3.   สามารถชี้จากข้างหลังได้โดยใช้ negative index\n",
        "\n",
        "\n"
      ]
    },
    {
      "cell_type": "code",
      "metadata": {
        "colab": {
          "base_uri": "https://localhost:8080/"
        },
        "id": "RoEHRAGmA2QC",
        "outputId": "e5200360-9087-4bc7-9cf4-49abcf42bcd1"
      },
      "source": [
        "list_b"
      ],
      "execution_count": null,
      "outputs": [
        {
          "output_type": "execute_result",
          "data": {
            "text/plain": [
              "[2, 'xyz', [1, 2, 0.2, 'abs'], [1, 2, 0.0]]"
            ]
          },
          "metadata": {
            "tags": []
          },
          "execution_count": 49
        }
      ]
    },
    {
      "cell_type": "code",
      "metadata": {
        "colab": {
          "base_uri": "https://localhost:8080/"
        },
        "id": "3SdjfiQKBcL3",
        "outputId": "10d0af50-a915-4aff-8445-b0aec0026a10"
      },
      "source": [
        "list_b[-1]"
      ],
      "execution_count": null,
      "outputs": [
        {
          "output_type": "execute_result",
          "data": {
            "text/plain": [
              "[1, 2, 0.0]"
            ]
          },
          "metadata": {
            "tags": []
          },
          "execution_count": 50
        }
      ]
    },
    {
      "cell_type": "markdown",
      "metadata": {
        "id": "7waGNq9uCLH1"
      },
      "source": [
        "### list slicing"
      ]
    },
    {
      "cell_type": "markdown",
      "metadata": {
        "id": "lssGMJL2C5tU"
      },
      "source": [
        "เราจะตัด list โดยเอาตั้งแต่ [ตัวหน้า:ตัวก่อนหลัง]\n",
        "\n",
        "ถ้าเป็นสัญลักษณ์คณิตศาสตร์ [ตัวหน้า:ตัวหลัง] -> [ตัวหน้า,ตัวหลัง)"
      ]
    },
    {
      "cell_type": "code",
      "metadata": {
        "id": "8q2-aDK5Bey3"
      },
      "source": [
        "list_ex = [1,2,3,5,6,8,-1,20,50,0]"
      ],
      "execution_count": null,
      "outputs": []
    },
    {
      "cell_type": "code",
      "metadata": {
        "colab": {
          "base_uri": "https://localhost:8080/"
        },
        "id": "-nmnnP5qCXKi",
        "outputId": "62aa2014-82bc-42b0-aa9c-3ed8911cb7ef"
      },
      "source": [
        "list_ex[1:6] "
      ],
      "execution_count": null,
      "outputs": [
        {
          "output_type": "execute_result",
          "data": {
            "text/plain": [
              "[2, 3, 5, 6, 8]"
            ]
          },
          "metadata": {
            "tags": []
          },
          "execution_count": 53
        }
      ]
    },
    {
      "cell_type": "code",
      "metadata": {
        "colab": {
          "base_uri": "https://localhost:8080/"
        },
        "id": "o33Vssq1Clct",
        "outputId": "8bace66d-6d49-44eb-b2ec-31d51e9797c0"
      },
      "source": [
        "list_ex[4:]"
      ],
      "execution_count": null,
      "outputs": [
        {
          "output_type": "execute_result",
          "data": {
            "text/plain": [
              "[6, 8, -1, 20, 50, 0]"
            ]
          },
          "metadata": {
            "tags": []
          },
          "execution_count": 54
        }
      ]
    },
    {
      "cell_type": "code",
      "metadata": {
        "colab": {
          "base_uri": "https://localhost:8080/"
        },
        "id": "3Ea-9VNDDbf6",
        "outputId": "bac9026b-9cc1-4c47-b6f9-234dd39ac22c"
      },
      "source": [
        "list_ex[:6]"
      ],
      "execution_count": null,
      "outputs": [
        {
          "output_type": "execute_result",
          "data": {
            "text/plain": [
              "[1, 2, 3, 5, 6, 8]"
            ]
          },
          "metadata": {
            "tags": []
          },
          "execution_count": 55
        }
      ]
    },
    {
      "cell_type": "markdown",
      "metadata": {
        "id": "4QyWbcUfEJ3O"
      },
      "source": [
        "[จุดเริ่มต้น:จุดสุดท้าย:step]"
      ]
    },
    {
      "cell_type": "code",
      "metadata": {
        "colab": {
          "base_uri": "https://localhost:8080/"
        },
        "id": "9OG4FTycDjhh",
        "outputId": "ba1a84d4-8655-445f-b5fd-8ff968f49b9d"
      },
      "source": [
        "list_ex[::2]"
      ],
      "execution_count": null,
      "outputs": [
        {
          "output_type": "execute_result",
          "data": {
            "text/plain": [
              "[1, 3, 6, -1, 50]"
            ]
          },
          "metadata": {
            "tags": []
          },
          "execution_count": 57
        }
      ]
    },
    {
      "cell_type": "code",
      "metadata": {
        "colab": {
          "base_uri": "https://localhost:8080/"
        },
        "id": "H-h1ISVMD_7n",
        "outputId": "3799c418-7546-44dd-cc85-f1afe141335d"
      },
      "source": [
        "list_ex[::-1] # การกลับ list"
      ],
      "execution_count": null,
      "outputs": [
        {
          "output_type": "execute_result",
          "data": {
            "text/plain": [
              "[0, 50, 20, -1, 8, 6, 5, 3, 2, 1]"
            ]
          },
          "metadata": {
            "tags": []
          },
          "execution_count": 58
        }
      ]
    },
    {
      "cell_type": "code",
      "metadata": {
        "colab": {
          "base_uri": "https://localhost:8080/",
          "height": 35
        },
        "id": "Bg-5DXuvE1DH",
        "outputId": "17bc10ca-de0a-4509-e939-c8e2100b0cab"
      },
      "source": [
        "a"
      ],
      "execution_count": null,
      "outputs": [
        {
          "output_type": "execute_result",
          "data": {
            "application/vnd.google.colaboratory.intrinsic+json": {
              "type": "string"
            },
            "text/plain": [
              "'Stat KKU'"
            ]
          },
          "metadata": {
            "tags": []
          },
          "execution_count": 61
        }
      ]
    },
    {
      "cell_type": "code",
      "metadata": {
        "colab": {
          "base_uri": "https://localhost:8080/",
          "height": 35
        },
        "id": "l4J27JV8IcUO",
        "outputId": "e9ac1871-e9f1-4592-856b-79aec32d08bd"
      },
      "source": [
        "a[5::]"
      ],
      "execution_count": null,
      "outputs": [
        {
          "output_type": "execute_result",
          "data": {
            "application/vnd.google.colaboratory.intrinsic+json": {
              "type": "string"
            },
            "text/plain": [
              "'KKU'"
            ]
          },
          "metadata": {
            "tags": []
          },
          "execution_count": 62
        }
      ]
    },
    {
      "cell_type": "code",
      "metadata": {
        "colab": {
          "base_uri": "https://localhost:8080/",
          "height": 35
        },
        "id": "3Kur7BsNIe6X",
        "outputId": "72ab7dee-b125-495f-d63c-f89242d45245"
      },
      "source": [
        "a[5:8]"
      ],
      "execution_count": null,
      "outputs": [
        {
          "output_type": "execute_result",
          "data": {
            "application/vnd.google.colaboratory.intrinsic+json": {
              "type": "string"
            },
            "text/plain": [
              "'KKU'"
            ]
          },
          "metadata": {
            "tags": []
          },
          "execution_count": 63
        }
      ]
    },
    {
      "cell_type": "code",
      "metadata": {
        "colab": {
          "base_uri": "https://localhost:8080/",
          "height": 35
        },
        "id": "3N0wzfTbIhaa",
        "outputId": "bbc4171d-39b0-40bc-a443-77fc2a914eae"
      },
      "source": [
        "a[-3::1]"
      ],
      "execution_count": null,
      "outputs": [
        {
          "output_type": "execute_result",
          "data": {
            "application/vnd.google.colaboratory.intrinsic+json": {
              "type": "string"
            },
            "text/plain": [
              "'KKU'"
            ]
          },
          "metadata": {
            "tags": []
          },
          "execution_count": 64
        }
      ]
    },
    {
      "cell_type": "code",
      "metadata": {
        "colab": {
          "base_uri": "https://localhost:8080/",
          "height": 35
        },
        "id": "u-ODu6VyIkbF",
        "outputId": "dbef2145-cb4c-4702-8773-ac96a3550c90"
      },
      "source": [
        "a[-3::]"
      ],
      "execution_count": null,
      "outputs": [
        {
          "output_type": "execute_result",
          "data": {
            "application/vnd.google.colaboratory.intrinsic+json": {
              "type": "string"
            },
            "text/plain": [
              "'KKU'"
            ]
          },
          "metadata": {
            "tags": []
          },
          "execution_count": 65
        }
      ]
    },
    {
      "cell_type": "markdown",
      "metadata": {
        "id": "etGFAz2_GtUz"
      },
      "source": [
        "## list + list "
      ]
    },
    {
      "cell_type": "code",
      "metadata": {
        "colab": {
          "base_uri": "https://localhost:8080/"
        },
        "id": "IUWejT3uGzhY",
        "outputId": "3ccff71a-2b2a-453f-d92f-d292a9a95d81"
      },
      "source": [
        "print(list_a)\n",
        "print(list_b)"
      ],
      "execution_count": null,
      "outputs": [
        {
          "output_type": "stream",
          "text": [
            "[1, 2, 0.2, 'abs']\n",
            "[2, 'xyz', [1, 2, 0.2, 'abs'], [1, 2, 0.0]]\n"
          ],
          "name": "stdout"
        }
      ]
    },
    {
      "cell_type": "code",
      "metadata": {
        "colab": {
          "base_uri": "https://localhost:8080/"
        },
        "id": "NlujBTzWHCUD",
        "outputId": "6665b63c-3638-488e-baa0-9f9b769370f0"
      },
      "source": [
        "list_a + list_b"
      ],
      "execution_count": null,
      "outputs": [
        {
          "output_type": "execute_result",
          "data": {
            "text/plain": [
              "[1, 2, 0.2, 'abs', 2, 'xyz', [1, 2, 0.2, 'abs'], [1, 2, 0.0]]"
            ]
          },
          "metadata": {
            "tags": []
          },
          "execution_count": 60
        }
      ]
    },
    {
      "cell_type": "markdown",
      "metadata": {
        "id": "zS3h-q-oLOO0"
      },
      "source": [
        "format string"
      ]
    },
    {
      "cell_type": "markdown",
      "metadata": {
        "id": "mcVPxVlrLw-a"
      },
      "source": [
        "\n",
        "\n",
        "```python \n",
        "f'string{ตัวแปร}'\n",
        "```\n",
        "\n"
      ]
    },
    {
      "cell_type": "markdown",
      "metadata": {
        "id": "RmJztcEIMRoN"
      },
      "source": [
        "เรียกว่า Curely Bracket"
      ]
    },
    {
      "cell_type": "code",
      "metadata": {
        "colab": {
          "base_uri": "https://localhost:8080/",
          "height": 35
        },
        "id": "xZXP7A6TLRlR",
        "outputId": "ca24c12e-1352-463f-cd27-d64bd18dce21"
      },
      "source": [
        "f'ตัวแปร list_a มีค่าคือ {list_a}'"
      ],
      "execution_count": null,
      "outputs": [
        {
          "output_type": "execute_result",
          "data": {
            "application/vnd.google.colaboratory.intrinsic+json": {
              "type": "string"
            },
            "text/plain": [
              "\"ตัวแปร list_a มีค่าคือ [1, 2, 0.2, 'abs']\""
            ]
          },
          "metadata": {
            "tags": []
          },
          "execution_count": 69
        }
      ]
    },
    {
      "cell_type": "markdown",
      "metadata": {
        "id": "VYE3hVRjHYWV"
      },
      "source": [
        "## Loop"
      ]
    },
    {
      "cell_type": "markdown",
      "metadata": {
        "id": "eEFa8wv1KjXO"
      },
      "source": [
        "\n",
        "\n",
        "```python\n",
        "for ตัวแปรที่จะรับค่าจากลิสต์ in ลิสต์ที่จะนำมาวนลูป:\n",
        "    do something\n",
        "```\n",
        "\n"
      ]
    },
    {
      "cell_type": "code",
      "metadata": {
        "colab": {
          "base_uri": "https://localhost:8080/"
        },
        "id": "venYcIXnJlmY",
        "outputId": "b8f6e21f-b677-4f92-e06f-784c5d82b381"
      },
      "source": [
        "for i in [1,2,3,4,5]:\n",
        "  print(i+1)\n",
        "\n",
        "  print('x')"
      ],
      "execution_count": 9,
      "outputs": [
        {
          "output_type": "stream",
          "text": [
            "2\n",
            "x\n",
            "3\n",
            "x\n",
            "4\n",
            "x\n",
            "5\n",
            "x\n",
            "6\n",
            "x\n"
          ],
          "name": "stdout"
        }
      ]
    },
    {
      "cell_type": "code",
      "metadata": {
        "colab": {
          "base_uri": "https://localhost:8080/"
        },
        "id": "uMSbaRuYMZFq",
        "outputId": "b2a1df4d-7fc7-451a-e07a-0387e75c4436"
      },
      "source": [
        "for x in [1,2,3,4,5]:\n",
        "  print(f'ค่าตัวแปร x คือ {x} และ x+2={x+2}')"
      ],
      "execution_count": 10,
      "outputs": [
        {
          "output_type": "stream",
          "text": [
            "ค่าตัวแปร x คือ 1 และ x+2=3\n",
            "ค่าตัวแปร x คือ 2 และ x+2=4\n",
            "ค่าตัวแปร x คือ 3 และ x+2=5\n",
            "ค่าตัวแปร x คือ 4 และ x+2=6\n",
            "ค่าตัวแปร x คือ 5 และ x+2=7\n"
          ],
          "name": "stdout"
        }
      ]
    },
    {
      "cell_type": "code",
      "metadata": {
        "colab": {
          "base_uri": "https://localhost:8080/"
        },
        "id": "1ZYapFGnM0nW",
        "outputId": "8791557d-5f8e-4f16-f807-b338d39c9677"
      },
      "source": [
        "list5=[1,2,3,4,5]\n",
        "for x in list5:\n",
        "   print(f'ค่าตัวแปร x คือ {x} และ x+2={x+2}')"
      ],
      "execution_count": 11,
      "outputs": [
        {
          "output_type": "stream",
          "text": [
            "ค่าตัวแปร x คือ 1 และ x+2=3\n",
            "ค่าตัวแปร x คือ 2 และ x+2=4\n",
            "ค่าตัวแปร x คือ 3 และ x+2=5\n",
            "ค่าตัวแปร x คือ 4 และ x+2=6\n",
            "ค่าตัวแปร x คือ 5 และ x+2=7\n"
          ],
          "name": "stdout"
        }
      ]
    },
    {
      "cell_type": "code",
      "metadata": {
        "colab": {
          "base_uri": "https://localhost:8080/"
        },
        "id": "VIvz9NXNNBDJ",
        "outputId": "4ad0865d-fe54-4fc1-a3e1-84f5a24cd074"
      },
      "source": [
        "list(range(10))"
      ],
      "execution_count": 12,
      "outputs": [
        {
          "output_type": "execute_result",
          "data": {
            "text/plain": [
              "[0, 1, 2, 3, 4, 5, 6, 7, 8, 9]"
            ]
          },
          "metadata": {
            "tags": []
          },
          "execution_count": 12
        }
      ]
    },
    {
      "cell_type": "code",
      "metadata": {
        "colab": {
          "base_uri": "https://localhost:8080/"
        },
        "id": "shPNUWpJNTOB",
        "outputId": "d8c3f695-de3a-4934-b119-8ba160de3154"
      },
      "source": [
        "for i in range(2,7):\n",
        "  print(i)"
      ],
      "execution_count": 13,
      "outputs": [
        {
          "output_type": "stream",
          "text": [
            "2\n",
            "3\n",
            "4\n",
            "5\n",
            "6\n"
          ],
          "name": "stdout"
        }
      ]
    },
    {
      "cell_type": "code",
      "metadata": {
        "colab": {
          "base_uri": "https://localhost:8080/"
        },
        "id": "2qg9SxrDN2M8",
        "outputId": "568c46f5-e162-4097-c28d-7817398eee97"
      },
      "source": [
        "for i in range(2,7,2):\n",
        "  print(i)"
      ],
      "execution_count": 14,
      "outputs": [
        {
          "output_type": "stream",
          "text": [
            "2\n",
            "4\n",
            "6\n"
          ],
          "name": "stdout"
        }
      ]
    },
    {
      "cell_type": "code",
      "metadata": {
        "colab": {
          "base_uri": "https://localhost:8080/"
        },
        "id": "PhLPXT6oOYby",
        "outputId": "9bcea9ea-54c3-4c7e-a987-b0e1eda58d67"
      },
      "source": [
        "for i in range(5):\n",
        "  print('hahaha')"
      ],
      "execution_count": 15,
      "outputs": [
        {
          "output_type": "stream",
          "text": [
            "hahaha\n",
            "hahaha\n",
            "hahaha\n",
            "hahaha\n",
            "hahaha\n"
          ],
          "name": "stdout"
        }
      ]
    },
    {
      "cell_type": "code",
      "metadata": {
        "colab": {
          "base_uri": "https://localhost:8080/"
        },
        "id": "8gMpDmOnOkD0",
        "outputId": "47f89ad3-4273-4231-ebfc-03ecef571436"
      },
      "source": [
        "for i in range(5):\n",
        "  print('hahaha')\n",
        "  x = i+3\n",
        "  print(f'i={i} x={x}')"
      ],
      "execution_count": 16,
      "outputs": [
        {
          "output_type": "stream",
          "text": [
            "hahaha\n",
            "i=0 x=3\n",
            "hahaha\n",
            "i=1 x=4\n",
            "hahaha\n",
            "i=2 x=5\n",
            "hahaha\n",
            "i=3 x=6\n",
            "hahaha\n",
            "i=4 x=7\n"
          ],
          "name": "stdout"
        }
      ]
    },
    {
      "cell_type": "markdown",
      "metadata": {
        "id": "skzzh4jxPLgH"
      },
      "source": [
        "## Nested loop"
      ]
    },
    {
      "cell_type": "code",
      "metadata": {
        "colab": {
          "base_uri": "https://localhost:8080/"
        },
        "id": "ViRsAX_gPOdF",
        "outputId": "c042622b-cff7-4e4a-d901-8814366db3c3"
      },
      "source": [
        "for i in range(3):\n",
        "    print(f'now i = {i}')\n",
        "    print('start j loop')\n",
        "    for j in range(4):\n",
        "        print(f'i = {i} j = {j} i+j = {i+j}')\n",
        "    print('end j loop')"
      ],
      "execution_count": 17,
      "outputs": [
        {
          "output_type": "stream",
          "text": [
            "now i = 0\n",
            "start j loop\n",
            "i = 0 j = 0 i+j = 0\n",
            "i = 0 j = 1 i+j = 1\n",
            "i = 0 j = 2 i+j = 2\n",
            "i = 0 j = 3 i+j = 3\n",
            "end j loop\n",
            "now i = 1\n",
            "start j loop\n",
            "i = 1 j = 0 i+j = 1\n",
            "i = 1 j = 1 i+j = 2\n",
            "i = 1 j = 2 i+j = 3\n",
            "i = 1 j = 3 i+j = 4\n",
            "end j loop\n",
            "now i = 2\n",
            "start j loop\n",
            "i = 2 j = 0 i+j = 2\n",
            "i = 2 j = 1 i+j = 3\n",
            "i = 2 j = 2 i+j = 4\n",
            "i = 2 j = 3 i+j = 5\n",
            "end j loop\n"
          ],
          "name": "stdout"
        }
      ]
    },
    {
      "cell_type": "markdown",
      "metadata": {
        "id": "3FiD1n4cHc2x"
      },
      "source": [
        "## Condition\n"
      ]
    },
    {
      "cell_type": "markdown",
      "metadata": {
        "id": "one1x48xfUlf"
      },
      "source": [
        "```python\n",
        "if เงื่อนไขที่จะตรวจสอบ (โดยใช้สัญลักษณ์ ==,!=,<,>,<=,>=):\n",
        "    ถ้าเงื่อนไขเป็นจริง ทำงาน 1\n",
        "    ถ้าเงื่อนไขเป็นจริง ทำงาน 2\n",
        "```"
      ]
    },
    {
      "cell_type": "code",
      "metadata": {
        "id": "2xRZrbAgfJV6",
        "colab": {
          "base_uri": "https://localhost:8080/"
        },
        "outputId": "8ed9cf68-46c4-4e07-cc77-e49316536878"
      },
      "source": [
        "stringx = 'sadfasdfsadfweirjwersdfspadofgj'\n",
        "\n",
        "if len(stringx) > 30:\n",
        "    print(f'{stringx} is longer than 30 characters')"
      ],
      "execution_count": 18,
      "outputs": [
        {
          "output_type": "stream",
          "text": [
            "sadfasdfsadfweirjwersdfspadofgj is longer than 30 characters\n"
          ],
          "name": "stdout"
        }
      ]
    },
    {
      "cell_type": "code",
      "metadata": {
        "id": "hlsqxqINfRkW"
      },
      "source": [
        "stringx = 'sadfasdfsadfweirjwersdfspadofgj'\n",
        "\n",
        "if len(stringx) > 100:\n",
        "    print(f'{stringx} is longer than 30 characters')"
      ],
      "execution_count": 19,
      "outputs": []
    },
    {
      "cell_type": "markdown",
      "metadata": {
        "id": "oOGuiabUfWJq"
      },
      "source": [
        "```python\n",
        "if เงื่อนไขที่จะตรวจสอบ (โดยใช้สัญลักษณ์ ==,!=,<,>,<=,>=):\n",
        "    ถ้าเงื่อนไขเป็นจริง ทำงานที่ 1\n",
        "    ถ้าเงื่อนไขเป็นจริง ทำงานที่ 2\n",
        "else: #ตรวจสอบเงื่อนไขข้างบนแล้วไม่เป็นจริง\n",
        "    ทำงานที่ X\n",
        "```"
      ]
    },
    {
      "cell_type": "code",
      "metadata": {
        "id": "ZmNkeAMEfXtd",
        "colab": {
          "base_uri": "https://localhost:8080/"
        },
        "outputId": "694d6409-fddd-4893-d9f7-6fd06f67d4a7"
      },
      "source": [
        "stringx = 'sadfasdfsadfweirjwersdfspadofgj'\n",
        "\n",
        "if len(stringx) > 100:\n",
        "    print(f'{stringx} is longer than 30 characters')\n",
        "else:\n",
        "    print(f'{stringx} in {len(stringx)} characters long')"
      ],
      "execution_count": 20,
      "outputs": [
        {
          "output_type": "stream",
          "text": [
            "sadfasdfsadfweirjwersdfspadofgj in 31 characters long\n"
          ],
          "name": "stdout"
        }
      ]
    },
    {
      "cell_type": "markdown",
      "metadata": {
        "id": "ku6rEfB8fe6Q"
      },
      "source": [
        "```python\n",
        "if เงื่อนไขที่จะตรวจสอบ (โดยใช้สัญลักษณ์ ==,!=,<,>,<=,>=):\n",
        "    ถ้าเงื่อนไขเป็นจริง ทำงานที่ 1\n",
        "    ถ้าเงื่อนไขเป็นจริง ทำงานที่ 2\n",
        "elif เงื่อนไขที่จะตรวจสอบต่อไปถ้าเงื่อนไขข้างบนไม่เป็นจริง:\n",
        "    ถ้าเงื่อนไขเป็นจริง ทำงานที่ a1\n",
        "    ถ้าเงื่อนไขเป็นจริง ทำงานที่ a2\n",
        "elif เงื่อนไขที่จะตรวจสอบต่อไปถ้าเงื่อนไขข้างบนไม่เป็นจริง:\n",
        "    ถ้าเงื่อนไขเป็นจริง ทำงานที่ b1\n",
        "    ถ้าเงื่อนไขเป็นจริง ทำงานที่ b2\n",
        "else: #ตรวจสอบเงื่อนไขข้างบนแล้วไม่เป็นจริง\n",
        "    ทำงานที่ X\n",
        "```"
      ]
    },
    {
      "cell_type": "code",
      "metadata": {
        "id": "jYBEjQTqHHyn",
        "colab": {
          "base_uri": "https://localhost:8080/"
        },
        "outputId": "e7cc90b5-b71a-41fd-cf95-a066f2efa020"
      },
      "source": [
        "password = '12345'\n",
        "\n",
        "input_pass = '123sf'\n",
        "if input_pass == password:\n",
        "    print('Welcome!')\n",
        "elif len(input_pass) > len(password):\n",
        "    print('Too long, try again!')\n",
        "elif len(input_pass) < len(password):\n",
        "    print('Too short , try again!')\n",
        "else:\n",
        "    print('Wrong password, tey again!')"
      ],
      "execution_count": 21,
      "outputs": [
        {
          "output_type": "stream",
          "text": [
            "Wrong password, tey again!\n"
          ],
          "name": "stdout"
        }
      ]
    },
    {
      "cell_type": "markdown",
      "metadata": {
        "id": "OkG84hRENqOG"
      },
      "source": [
        "Quiz 1 หา min"
      ]
    },
    {
      "cell_type": "code",
      "metadata": {
        "id": "wNodyBPkNtEr"
      },
      "source": [
        "list_ex = [1,5,9,-19,-2,0] #หาค่าน้อยที่สุดใน list_ex โดยไม่ใช้ function min (commit ก่อน 10.30 :Quiz1)"
      ],
      "execution_count": 22,
      "outputs": []
    },
    {
      "cell_type": "code",
      "metadata": {
        "colab": {
          "base_uri": "https://localhost:8080/"
        },
        "id": "CwRH_E4iN4yp",
        "outputId": "39ec9869-8e4e-4821-9c5b-9315368a111f"
      },
      "source": [
        "list_ex[-3]"
      ],
      "execution_count": 23,
      "outputs": [
        {
          "output_type": "execute_result",
          "data": {
            "text/plain": [
              "-19"
            ]
          },
          "metadata": {
            "tags": []
          },
          "execution_count": 23
        }
      ]
    },
    {
      "cell_type": "code",
      "metadata": {
        "id": "avsgZ0g8Sq6z",
        "colab": {
          "base_uri": "https://localhost:8080/"
        },
        "outputId": "74ae1fa1-23a5-4397-ea85-f0c33f3cfdd3"
      },
      "source": [
        "min = 10000000  #กำหนดให้มีค่าเยอะๆไว้ก่อน\n",
        "for i in list_ex:\n",
        "    if i < min:\n",
        "      min = i\n",
        "print(min)"
      ],
      "execution_count": 24,
      "outputs": [
        {
          "output_type": "stream",
          "text": [
            "-19\n"
          ],
          "name": "stdout"
        }
      ]
    },
    {
      "cell_type": "code",
      "metadata": {
        "id": "ZNNkUXHAUKxp",
        "colab": {
          "base_uri": "https://localhost:8080/"
        },
        "outputId": "df80762c-4704-40dc-c756-28b11c9d10bc"
      },
      "source": [
        "min = 10000000  #กำหนดให้มีค่าเยอะๆไว้ก่อน\n",
        "print(list_ex)\n",
        "for i in list_ex:\n",
        "    print(f'now i = {i}, min = {min}')\n",
        "    print('start condition')\n",
        "    if i < min:\n",
        "      print(f'i < min, update min -> {i}')\n",
        "      min = i\n",
        "    else:\n",
        "      print('i >= min, not update')\n",
        "    print('end condition, go to next i')\n",
        "print(min)"
      ],
      "execution_count": 25,
      "outputs": [
        {
          "output_type": "stream",
          "text": [
            "[1, 5, 9, -19, -2, 0]\n",
            "now i = 1, min = 10000000\n",
            "start condition\n",
            "i < min, update min -> 1\n",
            "end condition, go to next i\n",
            "now i = 5, min = 1\n",
            "start condition\n",
            "i >= min, not update\n",
            "end condition, go to next i\n",
            "now i = 9, min = 1\n",
            "start condition\n",
            "i >= min, not update\n",
            "end condition, go to next i\n",
            "now i = -19, min = 1\n",
            "start condition\n",
            "i < min, update min -> -19\n",
            "end condition, go to next i\n",
            "now i = -2, min = -19\n",
            "start condition\n",
            "i >= min, not update\n",
            "end condition, go to next i\n",
            "now i = 0, min = -19\n",
            "start condition\n",
            "i >= min, not update\n",
            "end condition, go to next i\n",
            "-19\n"
          ],
          "name": "stdout"
        }
      ]
    },
    {
      "cell_type": "markdown",
      "metadata": {
        "id": "vsubVG6AQVF0"
      },
      "source": [
        "HW3 ตัดเกรด "
      ]
    },
    {
      "cell_type": "code",
      "metadata": {
        "id": "aK0XONQGQ0sS"
      },
      "source": [
        "score = [49,65,70,95,82,55,89,20,77,77,81,59,10] #ตัดเกรดคะแนนใน list_score (ใช้ if กับ for)"
      ],
      "execution_count": 26,
      "outputs": []
    },
    {
      "cell_type": "code",
      "metadata": {
        "id": "-p9xzboNfjKV"
      },
      "source": [
        "list_score = [49,65,70,95,82,55,89,20,77,77,81,59,10]"
      ],
      "execution_count": 27,
      "outputs": []
    },
    {
      "cell_type": "code",
      "metadata": {
        "id": "MvuPMIkJgJlx",
        "colab": {
          "base_uri": "https://localhost:8080/"
        },
        "outputId": "c3a95382-2ecb-45a7-c830-4ade25d336d3"
      },
      "source": [
        "print(list_score)\n",
        "for i in list_score:\n",
        "    print(f'score = {i}')\n",
        "    if i < 50:\n",
        "      print('Grade F')\n",
        "    elif 50 <= i <= 54:\n",
        "      print('Grade D')\n",
        "    elif 55 <= i <= 59:\n",
        "      print('Grade D+')\n",
        "    elif 60 <= i <= 64:\n",
        "      print('Grade C')\n",
        "    elif 65 <= i <= 69:\n",
        "      print('Grade C+')\n",
        "    elif 70 <= i <= 74:\n",
        "      print('Grade B')\n",
        "    elif 75 <= i <= 79:\n",
        "      print('Grade B+')\n",
        "    elif  i > 80:\n",
        "      print('Grade A')"
      ],
      "execution_count": 28,
      "outputs": [
        {
          "output_type": "stream",
          "text": [
            "[49, 65, 70, 95, 82, 55, 89, 20, 77, 77, 81, 59, 10]\n",
            "score = 49\n",
            "Grade F\n",
            "score = 65\n",
            "Grade C+\n",
            "score = 70\n",
            "Grade B\n",
            "score = 95\n",
            "Grade A\n",
            "score = 82\n",
            "Grade A\n",
            "score = 55\n",
            "Grade D+\n",
            "score = 89\n",
            "Grade A\n",
            "score = 20\n",
            "Grade F\n",
            "score = 77\n",
            "Grade B+\n",
            "score = 77\n",
            "Grade B+\n",
            "score = 81\n",
            "Grade A\n",
            "score = 59\n",
            "Grade D+\n",
            "score = 10\n",
            "Grade F\n"
          ],
          "name": "stdout"
        }
      ]
    },
    {
      "cell_type": "markdown",
      "metadata": {
        "id": "xOWggRhCOzsL"
      },
      "source": [
        "## Function\n",
        "\n",
        "\n",
        "\n",
        "```python\n",
        "def ชื่อฟังก์ชั่น(input1,input2,...):\n",
        "    งานxxx\n",
        "    งานyyy\n",
        "    return output\n",
        "```\n",
        "\n",
        "ส่วนประกอบสำคัญ\n",
        "*   input\n",
        "*   process (ไม่มีไม่ได้)\n",
        "*   output\n",
        "\n",
        "\n",
        "\n",
        "\n",
        "\n",
        "\n",
        "\n"
      ]
    },
    {
      "cell_type": "markdown",
      "metadata": {
        "id": "zq-5yvmYy-Z3"
      },
      "source": [
        "Example 1"
      ]
    },
    {
      "cell_type": "code",
      "metadata": {
        "id": "tdgyAA1WxFwr"
      },
      "source": [
        "def grading_list(list_score):\n",
        "  grade_list = []\n",
        "\n",
        "  #print(list_score)\n",
        "  for i in list_score:\n",
        "      #print(f'score = {i}')\n",
        "      if i < 50:\n",
        "        Grade = 'F'\n",
        "      elif 50 <= i <= 54:\n",
        "        Grade = 'D'\n",
        "      elif 55 <= i <= 59:\n",
        "        Grade = 'D+'\n",
        "      elif 60 <= i <= 64:\n",
        "        Grade = 'C'\n",
        "      elif 65 <= i <= 69:\n",
        "        Grade = 'C+'\n",
        "      elif 70 <= i <= 74:\n",
        "        Grade = 'B'\n",
        "      elif 75 <= i <= 79:\n",
        "        Grade = 'B+'\n",
        "      elif  i > 80:\n",
        "        Grade = 'A'\n",
        "      grade_list.append([score.grade])\n",
        "  return grade_list"
      ],
      "execution_count": 44,
      "outputs": []
    },
    {
      "cell_type": "code",
      "metadata": {
        "id": "oZBa2lJn2TM6",
        "outputId": "6e55e10b-8bec-4211-e498-9e1777025564",
        "colab": {
          "base_uri": "https://localhost:8080/",
          "height": 282
        }
      },
      "source": [
        "g = grading_list(score)\n",
        "g"
      ],
      "execution_count": 45,
      "outputs": [
        {
          "output_type": "error",
          "ename": "AttributeError",
          "evalue": "ignored",
          "traceback": [
            "\u001b[0;31m---------------------------------------------------------------------------\u001b[0m",
            "\u001b[0;31mAttributeError\u001b[0m                            Traceback (most recent call last)",
            "\u001b[0;32m<ipython-input-45-3ad11220f4e3>\u001b[0m in \u001b[0;36m<module>\u001b[0;34m()\u001b[0m\n\u001b[0;32m----> 1\u001b[0;31m \u001b[0mg\u001b[0m \u001b[0;34m=\u001b[0m \u001b[0mgrading_list\u001b[0m\u001b[0;34m(\u001b[0m\u001b[0mscore\u001b[0m\u001b[0;34m)\u001b[0m\u001b[0;34m\u001b[0m\u001b[0;34m\u001b[0m\u001b[0m\n\u001b[0m\u001b[1;32m      2\u001b[0m \u001b[0mg\u001b[0m\u001b[0;34m\u001b[0m\u001b[0;34m\u001b[0m\u001b[0m\n",
            "\u001b[0;32m<ipython-input-44-bf752d8f485e>\u001b[0m in \u001b[0;36mgrading_list\u001b[0;34m(list_score)\u001b[0m\n\u001b[1;32m     21\u001b[0m       \u001b[0;32melif\u001b[0m  \u001b[0mi\u001b[0m \u001b[0;34m>\u001b[0m \u001b[0;36m80\u001b[0m\u001b[0;34m:\u001b[0m\u001b[0;34m\u001b[0m\u001b[0;34m\u001b[0m\u001b[0m\n\u001b[1;32m     22\u001b[0m         \u001b[0mGrade\u001b[0m \u001b[0;34m=\u001b[0m \u001b[0;34m'A'\u001b[0m\u001b[0;34m\u001b[0m\u001b[0;34m\u001b[0m\u001b[0m\n\u001b[0;32m---> 23\u001b[0;31m       \u001b[0mgrade_list\u001b[0m\u001b[0;34m.\u001b[0m\u001b[0mappend\u001b[0m\u001b[0;34m(\u001b[0m\u001b[0;34m[\u001b[0m\u001b[0mscore\u001b[0m\u001b[0;34m.\u001b[0m\u001b[0mgrade\u001b[0m\u001b[0;34m]\u001b[0m\u001b[0;34m)\u001b[0m\u001b[0;34m\u001b[0m\u001b[0;34m\u001b[0m\u001b[0m\n\u001b[0m\u001b[1;32m     24\u001b[0m   \u001b[0;32mreturn\u001b[0m \u001b[0mgrade_list\u001b[0m\u001b[0;34m\u001b[0m\u001b[0;34m\u001b[0m\u001b[0m\n",
            "\u001b[0;31mAttributeError\u001b[0m: 'list' object has no attribute 'grade'"
          ]
        }
      ]
    },
    {
      "cell_type": "markdown",
      "metadata": {
        "id": "TcyjFQ8z9J-n"
      },
      "source": [
        "Example 2 (ไม่มี input)"
      ]
    },
    {
      "cell_type": "code",
      "metadata": {
        "id": "_CIQomvt2VV5"
      },
      "source": [
        "def mypi():\n",
        "    return 3.14"
      ],
      "execution_count": 46,
      "outputs": []
    },
    {
      "cell_type": "code",
      "metadata": {
        "id": "O5S_zgZv9Ucq",
        "outputId": "0f9dc48c-9029-4f7e-d409-6fdf5b8ee9d9",
        "colab": {
          "base_uri": "https://localhost:8080/"
        }
      },
      "source": [
        "r = 10\n",
        "print(f'รัศมี = {r} จะมีเส้นรอบวง = {2*mypi()*r}')"
      ],
      "execution_count": 47,
      "outputs": [
        {
          "output_type": "stream",
          "text": [
            "รัศมี = 10 จะมีเส้นรอบวง = 62.800000000000004\n"
          ],
          "name": "stdout"
        }
      ]
    },
    {
      "cell_type": "markdown",
      "metadata": {
        "id": "0dQ5BtzN90ux"
      },
      "source": [
        "Example 3 (ไม่มี output)"
      ]
    },
    {
      "cell_type": "code",
      "metadata": {
        "id": "Gd5LLxyJ9qQf"
      },
      "source": [
        ""
      ],
      "execution_count": null,
      "outputs": []
    },
    {
      "cell_type": "markdown",
      "metadata": {
        "id": "Y22HlAldGIAY"
      },
      "source": [
        "#### Quiz 4 \n",
        "สร้างฟังก์ชั่น\n",
        "\n",
        "\n",
        "\n",
        "*   วาดรูปบ้าน\n",
        "*   วาดรูปต้นไม้\n",
        "\n"
      ]
    },
    {
      "cell_type": "code",
      "metadata": {
        "id": "HRjQpP7SGUHp"
      },
      "source": [
        "def draw_house():\n",
        "    print('         /\\          ')\n",
        "    print('        /  \\         ')\n",
        "    print('       /    \\        ')\n",
        "    print('=====================')\n",
        "    print('|                   |')\n",
        "    print('|                   |')\n",
        "    print('|                   |')\n",
        "    print('=====================')"
      ],
      "execution_count": 48,
      "outputs": []
    },
    {
      "cell_type": "code",
      "metadata": {
        "id": "tkEdhFZEIQan",
        "outputId": "82fcb1e4-3e77-4025-f188-fd513b1617f5",
        "colab": {
          "base_uri": "https://localhost:8080/"
        }
      },
      "source": [
        "draw_house()"
      ],
      "execution_count": 50,
      "outputs": [
        {
          "output_type": "stream",
          "text": [
            "         /\\          \n",
            "        /  \\         \n",
            "       /    \\        \n",
            "=====================\n",
            "|                   |\n",
            "|                   |\n",
            "|                   |\n",
            "=====================\n"
          ],
          "name": "stdout"
        }
      ]
    },
    {
      "cell_type": "code",
      "metadata": {
        "id": "jLl1ufh-IRug"
      },
      "source": [
        "def draw_tree():\n",
        "    print('     (           )      ')"
      ],
      "execution_count": null,
      "outputs": []
    },
    {
      "cell_type": "code",
      "metadata": {
        "id": "zLOveE8cIZ2g"
      },
      "source": [
        ""
      ],
      "execution_count": null,
      "outputs": []
    }
  ]
}